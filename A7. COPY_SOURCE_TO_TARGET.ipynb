{
 "cells": [
  {
   "cell_type": "code",
   "execution_count": 2,
   "id": "c18bb9fe-d6e2-454f-8fb5-52e5d19a38e0",
   "metadata": {},
   "outputs": [
    {
     "data": {
      "text/plain": [
       "'3.OUTPUT_GRAPH/dbTableName.csv'"
      ]
     },
     "execution_count": 2,
     "metadata": {},
     "output_type": "execute_result"
    }
   ],
   "source": [
    "import shutil\n",
    "\n",
    "original = r'1.INPUT/DATAWAREHOUSE/dbTableName.csv'\n",
    "target = r'3.OUTPUT_GRAPH/dbTableName.csv'\n",
    "\n",
    "shutil.copyfile(original, target)"
   ]
  }
 ],
 "metadata": {
  "kernelspec": {
   "display_name": "Python 3.8 (tensorflow-gpu)",
   "language": "python",
   "name": "tensorflow-gpu"
  },
  "language_info": {
   "codemirror_mode": {
    "name": "ipython",
    "version": 3
   },
   "file_extension": ".py",
   "mimetype": "text/x-python",
   "name": "python",
   "nbconvert_exporter": "python",
   "pygments_lexer": "ipython3",
   "version": "3.9.7"
  }
 },
 "nbformat": 4,
 "nbformat_minor": 5
}
