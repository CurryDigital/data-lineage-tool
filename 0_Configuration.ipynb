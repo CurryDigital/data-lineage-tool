{
 "cells": [
  {
   "cell_type": "code",
   "execution_count": 15,
   "id": "98c1a774-7f19-4465-b88e-9cfe77e7f922",
   "metadata": {},
   "outputs": [],
   "source": [
    "input_script_view = \"1.INPUT/DATAWAREHOUSE/ViewScript.sql\"\n",
    "input_script_sp = '1.INPUT/DATAWAREHOUSE/SPsScript.sql'\n",
    "input_script_table = '1.INPUT/DATAWAREHOUSE/tableScript.sql'\n"
   ]
  },
  {
   "cell_type": "code",
   "execution_count": 12,
   "id": "f9e0859f-a458-477f-afe1-4030f3847787",
   "metadata": {},
   "outputs": [
    {
     "name": "stdout",
     "output_type": "stream",
     "text": [
      "input_script_view =  1.INPUT/DATAWAREHOUSE/ViewScript.sql\n",
      "input_script_sp =  1.INPUT/DATAWAREHOUSE/SPsScript_testing.sql\n",
      "input_script_table =  1.INPUT/DATAWAREHOUSE/tableScript.sql\n"
     ]
    }
   ],
   "source": [
    "print(\"input_script_view = \", input_script_view)\n",
    "print(\"input_script_sp = \", input_script_sp)\n",
    "print(\"input_script_table = \", input_script_table)"
   ]
  },
  {
   "cell_type": "code",
   "execution_count": null,
   "id": "901c62be-0f4a-4080-a919-a7668f0e45c1",
   "metadata": {},
   "outputs": [],
   "source": [
    "graph_ingestion_view = \"3.OUTPUT_GRAPH/graph_input_vw.csv\"\n",
    "graph_ingestion_sp = '3.OUTPUT_GRAPH/graph_input_sp.csv'\n",
    "graph_ingestion_sp2 = '3.OUTPUT_GRAPH/graph_input_sp2.csv'\n",
    "graph_ingestion_table = '3.OUTPUT_GRAPH/graph_input_table.csv'"
   ]
  },
  {
   "cell_type": "code",
   "execution_count": null,
   "id": "50527615-79c7-4ee5-a4da-6af213de98dd",
   "metadata": {},
   "outputs": [],
   "source": [
    "print(\"graph_ingestion_view = \", graph_ingestion_view)\n",
    "print(\"graph_ingestion_sp = \", graph_ingestion_sp)\n",
    "print(\"graph_ingestion_sp2 = \", graph_ingestion_sp2)\n",
    "print(\"graph_ingestion_table = \", graph_ingestion_table)"
   ]
  }
 ],
 "metadata": {
  "kernelspec": {
   "display_name": "Graph",
   "language": "python",
   "name": "graph"
  },
  "language_info": {
   "codemirror_mode": {
    "name": "ipython",
    "version": 3
   },
   "file_extension": ".py",
   "mimetype": "text/x-python",
   "name": "python",
   "nbconvert_exporter": "python",
   "pygments_lexer": "ipython3",
   "version": "3.9.7"
  }
 },
 "nbformat": 4,
 "nbformat_minor": 5
}
