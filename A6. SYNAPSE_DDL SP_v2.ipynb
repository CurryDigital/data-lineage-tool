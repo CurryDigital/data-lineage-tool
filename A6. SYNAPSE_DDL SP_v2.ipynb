{
 "cells": [
  {
   "cell_type": "markdown",
   "id": "d2ae6cc6-14c1-43dc-a2c2-f0208e028ea1",
   "metadata": {},
   "source": [
    "### Summary\n",
    "#### This will break down the file in the following steps:\n",
    "1. loop through the table name file and see if anythings matched in the SQL script\n",
    "2. This won't look at the syntax patterns, just basically seeing if the TABLE name exists"
   ]
  },
  {
   "cell_type": "markdown",
   "id": "2987f729-c90d-41f7-b6a2-f12d06748312",
   "metadata": {},
   "source": [
    "### Import Packages"
   ]
  },
  {
   "cell_type": "code",
   "execution_count": 1,
   "id": "5fdce299-6526-4936-9565-532c3cc4dd89",
   "metadata": {},
   "outputs": [],
   "source": [
    "import pandas as pd\n",
    "import re\n",
    "import math\n",
    "from tqdm import tqdm\n",
    "import glob\n",
    "import shutil\n",
    "\n",
    "pd.options.mode.chained_assignment = None"
   ]
  },
  {
   "cell_type": "markdown",
   "id": "63ed757f-936b-4bb1-b218-eb97ff787de7",
   "metadata": {},
   "source": [
    "### 1. Import Files\n",
    "#### We will use 2 files from 1.INPUT folder\n",
    "1A. Stored Procedure SQL files\n",
    "\n",
    "1B. Excel Table Name files"
   ]
  },
  {
   "cell_type": "code",
   "execution_count": 2,
   "id": "8f66dd5d-51fa-41d9-9c69-a74889798adf",
   "metadata": {},
   "outputs": [],
   "source": [
    "def read_raw_sql_view(sql_input, regex_str):\n",
    "    str_found  = re.findall(regex_str, sql_input)\n",
    "  #  print(\"viewname found\", str_found)\n",
    "    df = pd.DataFrame (str_found, columns = ['SP_SCHEMA', 'SP_NAME'])\n",
    "    df['SYNTAX'] = sql_input\n",
    "    return df\n",
    "\n",
    "\n",
    "def sql_syntax_cleansing(text):\n",
    "    if text==text:\n",
    "        # remove the /* */ comments\n",
    "        q = re.sub(r\"/\\*[^*]*\\*+(?:[^*/][^*]*\\*+)*/\", \"\", text)\n",
    "\n",
    "        #remove the */ and /* comments\n",
    "        #q  = re.sub(r\"[^*]*\\*+(?:[^*/][^*]*\\*+)*/\", \"\", q)\n",
    "        q  = re.sub(r\"\\/\\*[^,]*$\", \"\", q)\n",
    "        q  = q.replace('\"','')\n",
    "        q  = q.replace('[','').replace(']','')\n",
    "        input_str  = q.upper()\n",
    "    else:\n",
    "        input_str = \"\"\n",
    "    return input_str\n",
    "\n",
    "def final_table_name_cleansing(text):\n",
    "    if text==text:\n",
    "          #  input_str=re.findall(r'(\\[?\\w+\\]?\\.\\[?\\w+\\]?)', text)\n",
    "            input_str = text.replace('FROM', '').replace('JOIN', '').replace(']', '').replace('[', '').replace(' ', '').upper()\n",
    "    else:\n",
    "        input_str = \"\"\n",
    "    return input_str"
   ]
  },
  {
   "cell_type": "markdown",
   "id": "1dfd11d8-aea4-45e4-b327-d4a93f24fdbe",
   "metadata": {},
   "source": [
    "#### 1A. Store Procedure SQL files into a Dataframe"
   ]
  },
  {
   "cell_type": "code",
   "execution_count": 3,
   "id": "ca03cf36-36f2-44b6-aa73-4e808c06e66f",
   "metadata": {},
   "outputs": [],
   "source": [
    "# Open and read the SP SQL file as a single buffer\n",
    "fd = open('1.INPUT/DATAWAREHOUSE/SPsScript.sql', 'r', encoding=\"utf-16\")\n",
    "sqlFile = fd.read()\n",
    "fd.close()\n",
    "\n",
    "#Then we clean the Stored Procedure Dataframe\n",
    "df = pd.DataFrame()\n",
    "i= 1\n",
    "\n",
    "for sql_statement in re.split(r'CREATE\\s+PROC', sqlFile):\n",
    "    i = i + 1\n",
    "    concat_sql = \"\"\n",
    "    \n",
    "    for line in sql_statement.split(\"\\n\"):\n",
    "            #Remove anythign on the right of the comment\n",
    "        q = line.split(\"--\")[0]\n",
    "        concat_sql = concat_sql + \" \" + q\n",
    "\n",
    "    concat_sql = concat_sql.replace('\\t', ' ').replace(\"  \", \" \").replace(\"  \", \" \").replace(\"  \", \" \").replace(\"  \", \" \").replace(\"  \", \" \")\n",
    "    concat_sql = re.sub(r\"/\\*[^*]*\\*+(?:[^*/][^*]*\\*+)*/\", \"\", concat_sql)\n",
    "    \n",
    "   # print(concat_sql)\n",
    "    \n",
    "    df = pd.concat([df, read_raw_sql_view(\"CREATE PROC \" + concat_sql, r\"(?ims)\\b(?:CREATE\\s+PROC)\\s+(\\[?\\w+\\]?)\\.(\\[?\\w+\\]?)\")], ignore_index=True )\n",
    "\n",
    "df['SP_SCHEMA']=df['SP_SCHEMA'].apply(lambda x: final_table_name_cleansing(x))\n",
    "df['SP_NAME']=df['SP_NAME'].apply(lambda x: final_table_name_cleansing(x))\n",
    "df['SYNTAX']=df['SYNTAX'].apply(lambda x: sql_syntax_cleansing(x))\n",
    "\n"
   ]
  },
  {
   "cell_type": "markdown",
   "id": "f2af6b47-c65d-4a69-a5ba-387b24b70db6",
   "metadata": {},
   "source": [
    "#### 1B. Store Procedure SQL file into a Dataframe"
   ]
  },
  {
   "cell_type": "code",
   "execution_count": 4,
   "id": "135b4be6-a121-4926-aa9d-65ac9d876c4d",
   "metadata": {},
   "outputs": [],
   "source": [
    "# Open and read the Table name\n",
    "table_name_df = pd.read_csv('1.INPUT/DATAWAREHOUSE/tableList.csv', header=0)\n",
    "table_name_df= table_name_df.rename(columns={\"database\": \"TABLE_DATABASE\",\n",
    "                       \"schema\": \"TABLE_SCHEMA\",\n",
    "                       \"name\": \"TABLE_NAME\"\n",
    "                      })\n",
    "\n",
    "table_name_df = table_name_df[[\"TABLE_DATABASE\", 'TABLE_SCHEMA', 'TABLE_NAME']]\n",
    "\n",
    "table_name_df = table_name_df.drop_duplicates(ignore_index=True)\n",
    "\n",
    "\n",
    "#First we clean the Table Name Dataframe\n",
    "table_name_df['TABLE_SCHEMA']=table_name_df['TABLE_SCHEMA'].apply(lambda x: sql_syntax_cleansing(x))\n",
    "table_name_df['TABLE_NAME']=table_name_df['TABLE_NAME'].apply(lambda x: sql_syntax_cleansing(x))\n",
    "\n",
    "\n",
    "\n"
   ]
  },
  {
   "cell_type": "markdown",
   "id": "c65ab81f-ccac-49d4-8cfb-db36494ce1fc",
   "metadata": {},
   "source": [
    "#### What the 2 Dataframe should look like :"
   ]
  },
  {
   "cell_type": "code",
   "execution_count": 5,
   "id": "ccfb9521-5c7f-4816-9c05-e9d4265ca5f8",
   "metadata": {},
   "outputs": [
    {
     "data": {
      "text/html": [
       "<div>\n",
       "<style scoped>\n",
       "    .dataframe tbody tr th:only-of-type {\n",
       "        vertical-align: middle;\n",
       "    }\n",
       "\n",
       "    .dataframe tbody tr th {\n",
       "        vertical-align: top;\n",
       "    }\n",
       "\n",
       "    .dataframe thead th {\n",
       "        text-align: right;\n",
       "    }\n",
       "</style>\n",
       "<table border=\"1\" class=\"dataframe\">\n",
       "  <thead>\n",
       "    <tr style=\"text-align: right;\">\n",
       "      <th></th>\n",
       "      <th>SP_SCHEMA</th>\n",
       "      <th>SP_NAME</th>\n",
       "      <th>SYNTAX</th>\n",
       "    </tr>\n",
       "  </thead>\n",
       "  <tbody>\n",
       "    <tr>\n",
       "      <th>0</th>\n",
       "      <td>PREPARE</td>\n",
       "      <td>SAMPLE_SP_1</td>\n",
       "      <td>CREATE PROC  PREPARE.SAMPLE_SP_1 AS BEGIN SET ...</td>\n",
       "    </tr>\n",
       "    <tr>\n",
       "      <th>1</th>\n",
       "      <td>PREPARE</td>\n",
       "      <td>SAMPLE_SP_2</td>\n",
       "      <td>CREATE PROC  PREPARE.SAMPLE_SP_2 AS BEGIN SET ...</td>\n",
       "    </tr>\n",
       "  </tbody>\n",
       "</table>\n",
       "</div>"
      ],
      "text/plain": [
       "  SP_SCHEMA      SP_NAME                                             SYNTAX\n",
       "0   PREPARE  SAMPLE_SP_1  CREATE PROC  PREPARE.SAMPLE_SP_1 AS BEGIN SET ...\n",
       "1   PREPARE  SAMPLE_SP_2  CREATE PROC  PREPARE.SAMPLE_SP_2 AS BEGIN SET ..."
      ]
     },
     "execution_count": 5,
     "metadata": {},
     "output_type": "execute_result"
    }
   ],
   "source": [
    "df"
   ]
  },
  {
   "cell_type": "code",
   "execution_count": 6,
   "id": "249de4b0-b0b8-42de-ac93-d71e03a1fe6b",
   "metadata": {},
   "outputs": [
    {
     "data": {
      "text/html": [
       "<div>\n",
       "<style scoped>\n",
       "    .dataframe tbody tr th:only-of-type {\n",
       "        vertical-align: middle;\n",
       "    }\n",
       "\n",
       "    .dataframe tbody tr th {\n",
       "        vertical-align: top;\n",
       "    }\n",
       "\n",
       "    .dataframe thead th {\n",
       "        text-align: right;\n",
       "    }\n",
       "</style>\n",
       "<table border=\"1\" class=\"dataframe\">\n",
       "  <thead>\n",
       "    <tr style=\"text-align: right;\">\n",
       "      <th></th>\n",
       "      <th>TABLE_DATABASE</th>\n",
       "      <th>TABLE_SCHEMA</th>\n",
       "      <th>TABLE_NAME</th>\n",
       "    </tr>\n",
       "  </thead>\n",
       "  <tbody>\n",
       "    <tr>\n",
       "      <th>0</th>\n",
       "      <td>DATABASE1</td>\n",
       "      <td>PREPARE</td>\n",
       "      <td>SAMPLE_TB_6</td>\n",
       "    </tr>\n",
       "    <tr>\n",
       "      <th>1</th>\n",
       "      <td>DATABASE1</td>\n",
       "      <td>SCHEMA_MALL</td>\n",
       "      <td>SAMPLE_TB_5</td>\n",
       "    </tr>\n",
       "    <tr>\n",
       "      <th>2</th>\n",
       "      <td>DATABASE1</td>\n",
       "      <td>PREPARE</td>\n",
       "      <td>SAMPLE_TB_3</td>\n",
       "    </tr>\n",
       "    <tr>\n",
       "      <th>3</th>\n",
       "      <td>DATABASE1</td>\n",
       "      <td>SCHEMA_MALL</td>\n",
       "      <td>SAMPLE_TB_2</td>\n",
       "    </tr>\n",
       "    <tr>\n",
       "      <th>4</th>\n",
       "      <td>DATABASE1</td>\n",
       "      <td>SCHEMA_MALL</td>\n",
       "      <td>SAMPLE_TB_1</td>\n",
       "    </tr>\n",
       "  </tbody>\n",
       "</table>\n",
       "</div>"
      ],
      "text/plain": [
       "  TABLE_DATABASE TABLE_SCHEMA   TABLE_NAME\n",
       "0      DATABASE1      PREPARE  SAMPLE_TB_6\n",
       "1      DATABASE1  SCHEMA_MALL  SAMPLE_TB_5\n",
       "2      DATABASE1      PREPARE  SAMPLE_TB_3\n",
       "3      DATABASE1  SCHEMA_MALL  SAMPLE_TB_2\n",
       "4      DATABASE1  SCHEMA_MALL  SAMPLE_TB_1"
      ]
     },
     "execution_count": 6,
     "metadata": {},
     "output_type": "execute_result"
    }
   ],
   "source": [
    "table_name_df"
   ]
  },
  {
   "cell_type": "markdown",
   "id": "d2dc2b02-0c7f-40d2-b452-d0391a55f85a",
   "metadata": {},
   "source": [
    "### 2. Now using REGEX to identify the SP-Table relationships\n",
    "#### We will use the 2 Dataframe we got earlier\n"
   ]
  },
  {
   "cell_type": "code",
   "execution_count": 7,
   "id": "82fcb37d-6897-4cf4-a121-ab211c976ca4",
   "metadata": {},
   "outputs": [],
   "source": [
    "#This function is used to loop complex pattern like \"INSERT INTO FROM SELECT * FROM xxx\"\n",
    "#Since there can be multiple SELECT FROM tables, Will start from the most outer shell, then move inner\n",
    "#If There is a CREATE TABLE/INSERT TABLE statement, then will get from there\n",
    "def regex_part_analyser(sql_input, regex_type, regex_str, df_master):\n",
    "    str_found  = re.findall(regex_str, sql_input)\n",
    "    str_cat=[]\n",
    "    \n",
    "    while str_found:\n",
    "        sql_input = sql_input.replace(str_found[0], '')\n",
    "        str_cat = str_cat + str_found\n",
    "        str_found  = re.findall(regex_str, sql_input)\n",
    "\n",
    "    df = pd.DataFrame (str_cat, columns = ['TABLE_FULL_NAME'])\n",
    "    df['REGEX_TYPE'] = regex_type\n",
    "    return df\n",
    "\n",
    "def regex_manipulation(sql_input, regex_type, regex_str, opt_df=None, opt_col=None):\n",
    "    output = re.findall(regex_str, sql_input)\n",
    "    output = list(dict.fromkeys(output))\n",
    "    \n",
    "    if opt_df is not None:\n",
    "            output = [x for x in output if x not in opt_df[opt_df.REGEX_TYPE==opt_col]['TABLE_FULL_NAME'].tolist()]\n",
    "\n",
    "    df = pd.DataFrame (output, columns = ['TABLE_FULL_NAME'])\n",
    "    df['REGEX_TYPE'] = regex_type\n",
    "    \n",
    "    return df\n",
    "\n",
    "def isNaN(string):\n",
    "    return string != string\n",
    "\n",
    "\n",
    "def list_main_analyser( sql_df, table_name):\n",
    "\n",
    "    sql_df = sql_df.loc[sql_df['SYNTAX'].str.contains(pat = '\\s+' + table_name + '(?:,|\\)|;| |$){1}', case=False, regex = True)]\n",
    "  #  sql_df['TABLE_NAME'] = table_name\n",
    "    if not sql_df.empty:\n",
    "        sql_df.loc[:, 'TABLE_NAME'] = table_name\n",
    "   # print(sql_df)\n",
    "     \n",
    "    return sql_df"
   ]
  },
  {
   "cell_type": "code",
   "execution_count": 8,
   "id": "67c70304-df4c-437a-964e-dcd4a30def38",
   "metadata": {
    "tags": []
   },
   "outputs": [
    {
     "name": "stdout",
     "output_type": "stream",
     "text": [
      "Total count of 5 Table in the file\n",
      "Will loop through each table against the SQL file\n"
     ]
    },
    {
     "name": "stderr",
     "output_type": "stream",
     "text": [
      "5it [00:00, 1000.07it/s]"
     ]
    },
    {
     "name": "stdout",
     "output_type": "stream",
     "text": [
      "COMPLETED : Graph Import File saved to graph_input_sp.csv\n"
     ]
    },
    {
     "name": "stderr",
     "output_type": "stream",
     "text": [
      "\n"
     ]
    }
   ],
   "source": [
    "import numpy as np\n",
    "\n",
    "df_cat = pd.DataFrame()    \n",
    "\n",
    "\n",
    "print(f\"Total count of {len(table_name_df)} Table in the file\")\n",
    "print(f\"Will loop through each table against the SQL file\")\n",
    "    \n",
    "#This will put the SQL Syntax into the main regex code analyser to identify table names\n",
    "for table_name_index, table_name_row in tqdm(table_name_df.iterrows()):\n",
    "    table_string = table_name_row['TABLE_SCHEMA'] + \".\" + table_name_row['TABLE_NAME']\n",
    "    \n",
    "    df_new = list_main_analyser(df, table_string)\n",
    "    \n",
    "    if not df_new.empty:\n",
    "        df_cat = pd.concat([ df_cat, df_new])\n",
    "        \n",
    "            \n",
    "print(\"COMPLETED : Graph Import File saved to graph_input_sp.csv\")"
   ]
  },
  {
   "cell_type": "code",
   "execution_count": 9,
   "id": "7581a62d-e66b-4c1a-bc52-35fc035869eb",
   "metadata": {},
   "outputs": [
    {
     "data": {
      "text/html": [
       "<div>\n",
       "<style scoped>\n",
       "    .dataframe tbody tr th:only-of-type {\n",
       "        vertical-align: middle;\n",
       "    }\n",
       "\n",
       "    .dataframe tbody tr th {\n",
       "        vertical-align: top;\n",
       "    }\n",
       "\n",
       "    .dataframe thead th {\n",
       "        text-align: right;\n",
       "    }\n",
       "</style>\n",
       "<table border=\"1\" class=\"dataframe\">\n",
       "  <thead>\n",
       "    <tr style=\"text-align: right;\">\n",
       "      <th></th>\n",
       "      <th>SP_SCHEMA</th>\n",
       "      <th>SP_NAME</th>\n",
       "      <th>SYNTAX</th>\n",
       "      <th>TABLE_NAME</th>\n",
       "    </tr>\n",
       "  </thead>\n",
       "  <tbody>\n",
       "    <tr>\n",
       "      <th>1</th>\n",
       "      <td>PREPARE</td>\n",
       "      <td>SAMPLE_SP_2</td>\n",
       "      <td>CREATE PROC  PREPARE.SAMPLE_SP_2 AS BEGIN SET ...</td>\n",
       "      <td>PREPARE.SAMPLE_TB_6</td>\n",
       "    </tr>\n",
       "    <tr>\n",
       "      <th>1</th>\n",
       "      <td>PREPARE</td>\n",
       "      <td>SAMPLE_SP_2</td>\n",
       "      <td>CREATE PROC  PREPARE.SAMPLE_SP_2 AS BEGIN SET ...</td>\n",
       "      <td>SCHEMA_MALL.SAMPLE_TB_5</td>\n",
       "    </tr>\n",
       "    <tr>\n",
       "      <th>0</th>\n",
       "      <td>PREPARE</td>\n",
       "      <td>SAMPLE_SP_1</td>\n",
       "      <td>CREATE PROC  PREPARE.SAMPLE_SP_1 AS BEGIN SET ...</td>\n",
       "      <td>PREPARE.SAMPLE_TB_3</td>\n",
       "    </tr>\n",
       "    <tr>\n",
       "      <th>0</th>\n",
       "      <td>PREPARE</td>\n",
       "      <td>SAMPLE_SP_1</td>\n",
       "      <td>CREATE PROC  PREPARE.SAMPLE_SP_1 AS BEGIN SET ...</td>\n",
       "      <td>SCHEMA_MALL.SAMPLE_TB_2</td>\n",
       "    </tr>\n",
       "    <tr>\n",
       "      <th>1</th>\n",
       "      <td>PREPARE</td>\n",
       "      <td>SAMPLE_SP_2</td>\n",
       "      <td>CREATE PROC  PREPARE.SAMPLE_SP_2 AS BEGIN SET ...</td>\n",
       "      <td>SCHEMA_MALL.SAMPLE_TB_2</td>\n",
       "    </tr>\n",
       "    <tr>\n",
       "      <th>0</th>\n",
       "      <td>PREPARE</td>\n",
       "      <td>SAMPLE_SP_1</td>\n",
       "      <td>CREATE PROC  PREPARE.SAMPLE_SP_1 AS BEGIN SET ...</td>\n",
       "      <td>SCHEMA_MALL.SAMPLE_TB_1</td>\n",
       "    </tr>\n",
       "  </tbody>\n",
       "</table>\n",
       "</div>"
      ],
      "text/plain": [
       "  SP_SCHEMA      SP_NAME                                             SYNTAX  \\\n",
       "1   PREPARE  SAMPLE_SP_2  CREATE PROC  PREPARE.SAMPLE_SP_2 AS BEGIN SET ...   \n",
       "1   PREPARE  SAMPLE_SP_2  CREATE PROC  PREPARE.SAMPLE_SP_2 AS BEGIN SET ...   \n",
       "0   PREPARE  SAMPLE_SP_1  CREATE PROC  PREPARE.SAMPLE_SP_1 AS BEGIN SET ...   \n",
       "0   PREPARE  SAMPLE_SP_1  CREATE PROC  PREPARE.SAMPLE_SP_1 AS BEGIN SET ...   \n",
       "1   PREPARE  SAMPLE_SP_2  CREATE PROC  PREPARE.SAMPLE_SP_2 AS BEGIN SET ...   \n",
       "0   PREPARE  SAMPLE_SP_1  CREATE PROC  PREPARE.SAMPLE_SP_1 AS BEGIN SET ...   \n",
       "\n",
       "                TABLE_NAME  \n",
       "1      PREPARE.SAMPLE_TB_6  \n",
       "1  SCHEMA_MALL.SAMPLE_TB_5  \n",
       "0      PREPARE.SAMPLE_TB_3  \n",
       "0  SCHEMA_MALL.SAMPLE_TB_2  \n",
       "1  SCHEMA_MALL.SAMPLE_TB_2  \n",
       "0  SCHEMA_MALL.SAMPLE_TB_1  "
      ]
     },
     "execution_count": 9,
     "metadata": {},
     "output_type": "execute_result"
    }
   ],
   "source": [
    "df_cat"
   ]
  },
  {
   "cell_type": "markdown",
   "id": "37455a56-4815-4cd2-983b-61fa3f138b80",
   "metadata": {},
   "source": [
    "### Export the results into 3. OUTPUT_GRAPH"
   ]
  },
  {
   "cell_type": "markdown",
   "id": "39dd3eea-e1f1-4c1d-8136-a1675737cd28",
   "metadata": {},
   "source": [
    "#### We will add back the remaining SP Name that have not been matched into the Output csv"
   ]
  },
  {
   "cell_type": "code",
   "execution_count": 10,
   "id": "053e8762-68b9-44bb-95dd-68389fd7ea5c",
   "metadata": {},
   "outputs": [],
   "source": [
    "#This checks if there are any left out scripts without TABLE name\n",
    "delta_df = pd.merge(df, df_cat, how='left', left_on=['SP_SCHEMA','SP_NAME'], right_on = ['SP_SCHEMA','SP_NAME'])\n",
    "#delta_df.drop(columns=[\"SYNTAX\"], inplace=True)\n",
    "delta_df['TABLE_FULL_NAME']=delta_df['TABLE_NAME'].apply(lambda x: final_table_name_cleansing(x))\n",
    "delta_df = delta_df.applymap(lambda s: s.upper() if type(s) == str else s)\n",
    "\n",
    "#delta_df\n",
    "#delta_df.to_excel(f\"checkin1.xlsx\")\n",
    "delta_df['SYNTAX'] = delta_df['SYNTAX_x']\n",
    "delta_df.drop(columns=[\"SYNTAX_y\", \"SYNTAX_x\"], inplace=True)\n",
    "\n",
    "delta_df.drop(columns=[\"SYNTAX\"], inplace=True)\n",
    "delta_df.to_csv(f'3.OUTPUT_GRAPH/graph_input_sp2.csv')"
   ]
  },
  {
   "cell_type": "code",
   "execution_count": 11,
   "id": "33553aae-387c-474d-99fe-3e91bfc1a7a9",
   "metadata": {},
   "outputs": [
    {
     "data": {
      "text/html": [
       "<div>\n",
       "<style scoped>\n",
       "    .dataframe tbody tr th:only-of-type {\n",
       "        vertical-align: middle;\n",
       "    }\n",
       "\n",
       "    .dataframe tbody tr th {\n",
       "        vertical-align: top;\n",
       "    }\n",
       "\n",
       "    .dataframe thead th {\n",
       "        text-align: right;\n",
       "    }\n",
       "</style>\n",
       "<table border=\"1\" class=\"dataframe\">\n",
       "  <thead>\n",
       "    <tr style=\"text-align: right;\">\n",
       "      <th></th>\n",
       "      <th>SP_SCHEMA</th>\n",
       "      <th>SP_NAME</th>\n",
       "      <th>TABLE_NAME</th>\n",
       "      <th>TABLE_FULL_NAME</th>\n",
       "    </tr>\n",
       "  </thead>\n",
       "  <tbody>\n",
       "    <tr>\n",
       "      <th>0</th>\n",
       "      <td>PREPARE</td>\n",
       "      <td>SAMPLE_SP_1</td>\n",
       "      <td>PREPARE.SAMPLE_TB_3</td>\n",
       "      <td>PREPARE.SAMPLE_TB_3</td>\n",
       "    </tr>\n",
       "    <tr>\n",
       "      <th>1</th>\n",
       "      <td>PREPARE</td>\n",
       "      <td>SAMPLE_SP_1</td>\n",
       "      <td>SCHEMA_MALL.SAMPLE_TB_2</td>\n",
       "      <td>SCHEMA_MALL.SAMPLE_TB_2</td>\n",
       "    </tr>\n",
       "    <tr>\n",
       "      <th>2</th>\n",
       "      <td>PREPARE</td>\n",
       "      <td>SAMPLE_SP_1</td>\n",
       "      <td>SCHEMA_MALL.SAMPLE_TB_1</td>\n",
       "      <td>SCHEMA_MALL.SAMPLE_TB_1</td>\n",
       "    </tr>\n",
       "    <tr>\n",
       "      <th>3</th>\n",
       "      <td>PREPARE</td>\n",
       "      <td>SAMPLE_SP_2</td>\n",
       "      <td>PREPARE.SAMPLE_TB_6</td>\n",
       "      <td>PREPARE.SAMPLE_TB_6</td>\n",
       "    </tr>\n",
       "    <tr>\n",
       "      <th>4</th>\n",
       "      <td>PREPARE</td>\n",
       "      <td>SAMPLE_SP_2</td>\n",
       "      <td>SCHEMA_MALL.SAMPLE_TB_5</td>\n",
       "      <td>SCHEMA_MALL.SAMPLE_TB_5</td>\n",
       "    </tr>\n",
       "    <tr>\n",
       "      <th>5</th>\n",
       "      <td>PREPARE</td>\n",
       "      <td>SAMPLE_SP_2</td>\n",
       "      <td>SCHEMA_MALL.SAMPLE_TB_2</td>\n",
       "      <td>SCHEMA_MALL.SAMPLE_TB_2</td>\n",
       "    </tr>\n",
       "  </tbody>\n",
       "</table>\n",
       "</div>"
      ],
      "text/plain": [
       "  SP_SCHEMA      SP_NAME               TABLE_NAME          TABLE_FULL_NAME\n",
       "0   PREPARE  SAMPLE_SP_1      PREPARE.SAMPLE_TB_3      PREPARE.SAMPLE_TB_3\n",
       "1   PREPARE  SAMPLE_SP_1  SCHEMA_MALL.SAMPLE_TB_2  SCHEMA_MALL.SAMPLE_TB_2\n",
       "2   PREPARE  SAMPLE_SP_1  SCHEMA_MALL.SAMPLE_TB_1  SCHEMA_MALL.SAMPLE_TB_1\n",
       "3   PREPARE  SAMPLE_SP_2      PREPARE.SAMPLE_TB_6      PREPARE.SAMPLE_TB_6\n",
       "4   PREPARE  SAMPLE_SP_2  SCHEMA_MALL.SAMPLE_TB_5  SCHEMA_MALL.SAMPLE_TB_5\n",
       "5   PREPARE  SAMPLE_SP_2  SCHEMA_MALL.SAMPLE_TB_2  SCHEMA_MALL.SAMPLE_TB_2"
      ]
     },
     "execution_count": 11,
     "metadata": {},
     "output_type": "execute_result"
    }
   ],
   "source": [
    "delta_df"
   ]
  }
 ],
 "metadata": {
  "kernelspec": {
   "display_name": "Graph",
   "language": "python",
   "name": "graph"
  },
  "language_info": {
   "codemirror_mode": {
    "name": "ipython",
    "version": 3
   },
   "file_extension": ".py",
   "mimetype": "text/x-python",
   "name": "python",
   "nbconvert_exporter": "python",
   "pygments_lexer": "ipython3",
   "version": "3.9.7"
  }
 },
 "nbformat": 4,
 "nbformat_minor": 5
}
