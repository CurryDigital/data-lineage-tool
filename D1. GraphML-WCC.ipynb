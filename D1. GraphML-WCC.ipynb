{
 "cells": [
  {
   "cell_type": "markdown",
   "metadata": {
    "pycharm": {}
   },
   "source": [
    "## Summary\n",
    "This Graph ML notebook will utilise Neo4j Native Algorithm to build upon the existing Graph Network,\n",
    "in this follows steps:\n",
    "### 1. Weakly Connected Components GraphML\n",
    "- This is used to identify graph networks that are definitive isolated.\n",
    "\n",
    "### 2. Similarity Algorithm\n",
    "- Look for Similarity between 2 Stored Procedures networks amongst Tables\n",
    "\n",
    "### 3. Community Algorithm (Label Propagation Algorithm)\n",
    "- Using the Similarity Algorithm, to determine the Groupings of Stored Procedures"
   ]
  },
  {
   "cell_type": "markdown",
   "metadata": {},
   "source": [
    "#### 1. Import Packages & Set Neo4j DB connection"
   ]
  },
  {
   "cell_type": "code",
   "execution_count": 1,
   "metadata": {
    "pycharm": {}
   },
   "outputs": [],
   "source": [
    "from py2neo import Graph\n",
    "import pandas as pd\n",
    "from IPython import display\n",
    "\n",
    "graph = Graph(\"bolt://localhost:7687\", auth=(\"neo4j\", \"123\"))"
   ]
  },
  {
   "cell_type": "markdown",
   "metadata": {
    "pycharm": {}
   },
   "source": [
    "The nodes we have:"
   ]
  },
  {
   "cell_type": "code",
   "execution_count": 2,
   "metadata": {
    "pycharm": {}
   },
   "outputs": [
    {
     "name": "stdout",
     "output_type": "stream",
     "text": [
      "Nodes:\n"
     ]
    },
    {
     "data": {
      "text/html": [
       "<div>\n",
       "<style scoped>\n",
       "    .dataframe tbody tr th:only-of-type {\n",
       "        vertical-align: middle;\n",
       "    }\n",
       "\n",
       "    .dataframe tbody tr th {\n",
       "        vertical-align: top;\n",
       "    }\n",
       "\n",
       "    .dataframe thead th {\n",
       "        text-align: right;\n",
       "    }\n",
       "</style>\n",
       "<table border=\"1\" class=\"dataframe\">\n",
       "  <thead>\n",
       "    <tr style=\"text-align: right;\">\n",
       "      <th></th>\n",
       "      <th>label</th>\n",
       "      <th>count</th>\n",
       "    </tr>\n",
       "  </thead>\n",
       "  <tbody>\n",
       "    <tr>\n",
       "      <th>0</th>\n",
       "      <td>SP</td>\n",
       "      <td>2</td>\n",
       "    </tr>\n",
       "    <tr>\n",
       "      <th>2</th>\n",
       "      <td>VIEW</td>\n",
       "      <td>2</td>\n",
       "    </tr>\n",
       "    <tr>\n",
       "      <th>1</th>\n",
       "      <td>TABLE</td>\n",
       "      <td>5</td>\n",
       "    </tr>\n",
       "  </tbody>\n",
       "</table>\n",
       "</div>"
      ],
      "text/plain": [
       "   label  count\n",
       "0     SP      2\n",
       "2   VIEW      2\n",
       "1  TABLE      5"
      ]
     },
     "execution_count": 2,
     "metadata": {},
     "output_type": "execute_result"
    }
   ],
   "source": [
    "print(\"Nodes:\")\n",
    "\n",
    "result = {\"label\": [], \"count\": []}\n",
    "for label in graph.run(\"CALL db.labels()\").to_series():\n",
    "    query = f\"MATCH (:`{label}`) RETURN count(*) as count\"\n",
    "    count = graph.run(query).to_data_frame().iloc[0]['count']\n",
    "    result[\"label\"].append(label)\n",
    "    result[\"count\"].append(count)\n",
    "nodes_df = pd.DataFrame(data=result)\n",
    "nodes_df.sort_values(\"count\")"
   ]
  },
  {
   "cell_type": "markdown",
   "metadata": {
    "pycharm": {}
   },
   "source": [
    "The relationships we have:"
   ]
  },
  {
   "cell_type": "code",
   "execution_count": 3,
   "metadata": {
    "pycharm": {}
   },
   "outputs": [
    {
     "name": "stdout",
     "output_type": "stream",
     "text": [
      "Relationships:\n"
     ]
    },
    {
     "data": {
      "text/html": [
       "<div>\n",
       "<style scoped>\n",
       "    .dataframe tbody tr th:only-of-type {\n",
       "        vertical-align: middle;\n",
       "    }\n",
       "\n",
       "    .dataframe tbody tr th {\n",
       "        vertical-align: top;\n",
       "    }\n",
       "\n",
       "    .dataframe thead th {\n",
       "        text-align: right;\n",
       "    }\n",
       "</style>\n",
       "<table border=\"1\" class=\"dataframe\">\n",
       "  <thead>\n",
       "    <tr style=\"text-align: right;\">\n",
       "      <th></th>\n",
       "      <th>relType</th>\n",
       "      <th>count</th>\n",
       "    </tr>\n",
       "  </thead>\n",
       "  <tbody>\n",
       "    <tr>\n",
       "      <th>2</th>\n",
       "      <td>SP_SELECT_FROM</td>\n",
       "      <td>2</td>\n",
       "    </tr>\n",
       "    <tr>\n",
       "      <th>1</th>\n",
       "      <td>SP_INSERT_UPDATE</td>\n",
       "      <td>4</td>\n",
       "    </tr>\n",
       "    <tr>\n",
       "      <th>0</th>\n",
       "      <td>RELY_ON</td>\n",
       "      <td>8</td>\n",
       "    </tr>\n",
       "  </tbody>\n",
       "</table>\n",
       "</div>"
      ],
      "text/plain": [
       "            relType  count\n",
       "2    SP_SELECT_FROM      2\n",
       "1  SP_INSERT_UPDATE      4\n",
       "0           RELY_ON      8"
      ]
     },
     "execution_count": 3,
     "metadata": {},
     "output_type": "execute_result"
    }
   ],
   "source": [
    "print(\"Relationships:\")\n",
    "\n",
    "result = {\"relType\": [], \"count\": []}\n",
    "for relationship_type in graph.run(\"CALL db.relationshipTypes()\").to_series():\n",
    "    query = f\"MATCH ()-[:`{relationship_type}`]->() RETURN count(*) as count\"\n",
    "    count = graph.run(query).to_data_frame().iloc[0]['count']\n",
    "    result[\"relType\"].append(relationship_type)\n",
    "    result[\"count\"].append(count)\n",
    "rels_df = pd.DataFrame(data=result)\n",
    "rels_df.sort_values(\"count\")"
   ]
  },
  {
   "cell_type": "markdown",
   "metadata": {},
   "source": [
    "## Graph ML"
   ]
  },
  {
   "cell_type": "markdown",
   "metadata": {},
   "source": [
    "### 1. WCC : Looking for disjointed paths across segments using GraphML\n",
    "WCC will find all isolated islands, these will form natural community"
   ]
  },
  {
   "cell_type": "code",
   "execution_count": 4,
   "metadata": {},
   "outputs": [
    {
     "name": "stdout",
     "output_type": "stream",
     "text": [
      "Running WCC to the main graph---\n"
     ]
    },
    {
     "data": {
      "text/html": [
       "<div>\n",
       "<style scoped>\n",
       "    .dataframe tbody tr th:only-of-type {\n",
       "        vertical-align: middle;\n",
       "    }\n",
       "\n",
       "    .dataframe tbody tr th {\n",
       "        vertical-align: top;\n",
       "    }\n",
       "\n",
       "    .dataframe thead th {\n",
       "        text-align: right;\n",
       "    }\n",
       "</style>\n",
       "<table border=\"1\" class=\"dataframe\">\n",
       "  <thead>\n",
       "    <tr style=\"text-align: right;\">\n",
       "      <th></th>\n",
       "      <th>nodePropertiesWritten</th>\n",
       "      <th>componentCount</th>\n",
       "      <th>componentDistribution</th>\n",
       "    </tr>\n",
       "  </thead>\n",
       "  <tbody>\n",
       "    <tr>\n",
       "      <th>0</th>\n",
       "      <td>7</td>\n",
       "      <td>1</td>\n",
       "      <td>{'p99': 7, 'min': 7, 'max': 7, 'mean': 7.0, 'p...</td>\n",
       "    </tr>\n",
       "  </tbody>\n",
       "</table>\n",
       "</div>"
      ],
      "text/plain": [
       "   nodePropertiesWritten  componentCount  \\\n",
       "0                      7               1   \n",
       "\n",
       "                               componentDistribution  \n",
       "0  {'p99': 7, 'min': 7, 'max': 7, 'mean': 7.0, 'p...  "
      ]
     },
     "execution_count": 4,
     "metadata": {},
     "output_type": "execute_result"
    }
   ],
   "source": [
    "query = \"\"\"\n",
    "CALL gds.graph.drop('SP_ML_Graph', false)\n",
    "\"\"\"\n",
    "graph.run(query).to_data_frame()\n",
    "\n",
    "query = \"\"\"\n",
    "CALL gds.graph.drop('SP_ML_Graph_v2', false)\n",
    "\"\"\"\n",
    "graph.run(query).to_data_frame()\n",
    "\n",
    "\n",
    "query = \"\"\"\n",
    "CALL gds.graph.project(\n",
    "    'SP_ML_Graph',\n",
    "    {\n",
    "        SP: {properties: ['EXCLUSION']}, \n",
    "        TABLE: {properties: ['EXCLUSION']}\n",
    "    },\n",
    "    {\n",
    "        REL:{type: 'RELY_ON', orientation:'UNDIRECTED'}\n",
    "    }\n",
    ");\n",
    "\"\"\"\n",
    "graph.run(query).to_data_frame()\n",
    "\n",
    "query = \"\"\"\n",
    "    CALL gds.beta.graph.project.subgraph(\n",
    "      'SP_ML_Graph_v2', \n",
    "      'SP_ML_Graph', \n",
    "      'n.EXCLUSION=0 OR (n:SP AND n.EXCLUSION=0)', \n",
    "      '*' \n",
    "    )\n",
    "    \"\"\"\n",
    "graph.run(query).to_data_frame()\n",
    "\n",
    "query = \"\"\"\n",
    "    CALL gds.wcc.write('SP_ML_Graph_v2',\n",
    "                      {\n",
    "                          writeProperty: 'wcc_group'\n",
    "                      }) YIELD nodePropertiesWritten, componentCount, componentDistribution\n",
    "    \"\"\"\n",
    "print(\"Running WCC to the main graph---\")\n",
    "graph.run(query).to_data_frame()\n",
    "\n"
   ]
  },
  {
   "cell_type": "markdown",
   "metadata": {},
   "source": [
    "### The WCC results\n",
    "Each grouping represents one isolated islands\n",
    "(i.e. countsize = 1 -> the SP utilise TABLES that no other SP uses)"
   ]
  },
  {
   "cell_type": "code",
   "execution_count": 5,
   "metadata": {},
   "outputs": [
    {
     "data": {
      "text/html": [
       "<div>\n",
       "<style scoped>\n",
       "    .dataframe tbody tr th:only-of-type {\n",
       "        vertical-align: middle;\n",
       "    }\n",
       "\n",
       "    .dataframe tbody tr th {\n",
       "        vertical-align: top;\n",
       "    }\n",
       "\n",
       "    .dataframe thead th {\n",
       "        text-align: right;\n",
       "    }\n",
       "</style>\n",
       "<table border=\"1\" class=\"dataframe\">\n",
       "  <thead>\n",
       "    <tr style=\"text-align: right;\">\n",
       "      <th></th>\n",
       "      <th>wcc_group</th>\n",
       "      <th>countsize</th>\n",
       "    </tr>\n",
       "  </thead>\n",
       "  <tbody>\n",
       "    <tr>\n",
       "      <th>0</th>\n",
       "      <td>0</td>\n",
       "      <td>2</td>\n",
       "    </tr>\n",
       "  </tbody>\n",
       "</table>\n",
       "</div>"
      ],
      "text/plain": [
       "   wcc_group  countsize\n",
       "0          0          2"
      ]
     },
     "execution_count": 5,
     "metadata": {},
     "output_type": "execute_result"
    }
   ],
   "source": [
    "query = \"\"\"\n",
    "match (s:SP)\n",
    "where s.wcc_group is null\n",
    "SET s.wcc_group_count = 0\n",
    "\"\"\"\n",
    "\n",
    "graph.run(query)\n",
    "\n",
    "query = \"\"\"\n",
    "match (s:SP)\n",
    "with s.wcc_group as wcc_group, size(collect(s.SP_ID)) as countsize\n",
    "return wcc_group, countsize \n",
    "order by countsize desc\n",
    "\"\"\"\n",
    "\n",
    "df =graph.run(query).to_data_frame()\n",
    "df"
   ]
  },
  {
   "cell_type": "code",
   "execution_count": 6,
   "metadata": {},
   "outputs": [
    {
     "data": {
      "text/html": [
       "<div>\n",
       "<style scoped>\n",
       "    .dataframe tbody tr th:only-of-type {\n",
       "        vertical-align: middle;\n",
       "    }\n",
       "\n",
       "    .dataframe tbody tr th {\n",
       "        vertical-align: top;\n",
       "    }\n",
       "\n",
       "    .dataframe thead th {\n",
       "        text-align: right;\n",
       "    }\n",
       "</style>\n",
       "<table border=\"1\" class=\"dataframe\">\n",
       "  <thead>\n",
       "    <tr style=\"text-align: right;\">\n",
       "      <th></th>\n",
       "      <th>s2.wcc_group</th>\n",
       "      <th>wcc_group_count</th>\n",
       "      <th>wcc_group_wordcount</th>\n",
       "    </tr>\n",
       "  </thead>\n",
       "  <tbody>\n",
       "    <tr>\n",
       "      <th>0</th>\n",
       "      <td>0</td>\n",
       "      <td>2</td>\n",
       "      <td>290</td>\n",
       "    </tr>\n",
       "    <tr>\n",
       "      <th>1</th>\n",
       "      <td>0</td>\n",
       "      <td>2</td>\n",
       "      <td>290</td>\n",
       "    </tr>\n",
       "  </tbody>\n",
       "</table>\n",
       "</div>"
      ],
      "text/plain": [
       "   s2.wcc_group  wcc_group_count  wcc_group_wordcount\n",
       "0             0                2                  290\n",
       "1             0                2                  290"
      ]
     },
     "execution_count": 6,
     "metadata": {},
     "output_type": "execute_result"
    }
   ],
   "source": [
    "#Putting the wcc_group_count and wcc_group_wordcount back into the Node for easier manipulation\n",
    "\n",
    "query = \"\"\"\n",
    "match (s:SP)\n",
    "with s.wcc_group as wcc_group_select, size(collect(s.SP_ID)) as countsize, SUM(s.SYNTAX_WORDCOUNT) as syntax_wordcount\n",
    "\n",
    "match (s2:SP)\n",
    "where s2.wcc_group = wcc_group_select\n",
    "SET s2.wcc_group_count = countsize,\n",
    "    s2.wcc_group_wordcount = syntax_wordcount\n",
    "return s2.wcc_group, countsize as wcc_group_count, syntax_wordcount as wcc_group_wordcount\n",
    "order by countsize desc\n",
    "\"\"\"\n",
    "\n",
    "df =graph.run(query).to_data_frame()\n",
    "df\n",
    "\n"
   ]
  },
  {
   "cell_type": "markdown",
   "metadata": {},
   "source": [
    "## EDA on the Community built\n",
    "- Community is based on the Weakly Connectyd Components\n",
    "- 99991 : Singleton Group\n",
    "- 99992 : Cluster with 2-9 Nodes\n",
    "- 99993 : Cluster with 11-19 Nodes\n",
    "- 99994 : Cluster with 20-29 Nodes\n",
    "- 99995 : Cluster with 30-39 Nodes\n",
    "- 99999 : SP in the Exclusion List\n",
    "- Anything above 30, they will be assigned their own group"
   ]
  },
  {
   "cell_type": "code",
   "execution_count": 7,
   "metadata": {},
   "outputs": [
    {
     "data": {
      "text/html": [
       "<div>\n",
       "<style scoped>\n",
       "    .dataframe tbody tr th:only-of-type {\n",
       "        vertical-align: middle;\n",
       "    }\n",
       "\n",
       "    .dataframe tbody tr th {\n",
       "        vertical-align: top;\n",
       "    }\n",
       "\n",
       "    .dataframe thead th {\n",
       "        text-align: right;\n",
       "    }\n",
       "</style>\n",
       "<table border=\"1\" class=\"dataframe\">\n",
       "  <thead>\n",
       "    <tr style=\"text-align: right;\">\n",
       "      <th></th>\n",
       "    </tr>\n",
       "  </thead>\n",
       "  <tbody>\n",
       "  </tbody>\n",
       "</table>\n",
       "</div>"
      ],
      "text/plain": [
       "Empty DataFrame\n",
       "Columns: []\n",
       "Index: []"
      ]
     },
     "execution_count": 7,
     "metadata": {},
     "output_type": "execute_result"
    }
   ],
   "source": [
    "#Exclusion Groups\n",
    "\n",
    "query = \"\"\"\n",
    "match (s:SP)\n",
    "where s.EXCLUSION = 1\n",
    "SET s.final_group = 99999\n",
    "\"\"\"\n",
    "graph.run(query).to_data_frame()"
   ]
  },
  {
   "cell_type": "code",
   "execution_count": 8,
   "metadata": {},
   "outputs": [
    {
     "data": {
      "text/html": [
       "<div>\n",
       "<style scoped>\n",
       "    .dataframe tbody tr th:only-of-type {\n",
       "        vertical-align: middle;\n",
       "    }\n",
       "\n",
       "    .dataframe tbody tr th {\n",
       "        vertical-align: top;\n",
       "    }\n",
       "\n",
       "    .dataframe thead th {\n",
       "        text-align: right;\n",
       "    }\n",
       "</style>\n",
       "<table border=\"1\" class=\"dataframe\">\n",
       "  <thead>\n",
       "    <tr style=\"text-align: right;\">\n",
       "      <th></th>\n",
       "    </tr>\n",
       "  </thead>\n",
       "  <tbody>\n",
       "  </tbody>\n",
       "</table>\n",
       "</div>"
      ],
      "text/plain": [
       "Empty DataFrame\n",
       "Columns: []\n",
       "Index: []"
      ]
     },
     "execution_count": 8,
     "metadata": {},
     "output_type": "execute_result"
    }
   ],
   "source": [
    "#First let group all singleton groups into the same subgroup first\n",
    "\n",
    "query = \"\"\"\n",
    "match (s:SP)\n",
    "where s.sp_community_group is null\n",
    "with s.wcc_group as wcc_group_select, size(collect(s.SP_ID)) as countsize\n",
    "where countsize = 1\n",
    "\n",
    "with wcc_group_select\n",
    "match (s2:SP)\n",
    "where s2.wcc_group = wcc_group_select\n",
    "SET s2.final_group = 99991\n",
    "\"\"\"\n",
    "graph.run(query).to_data_frame()"
   ]
  },
  {
   "cell_type": "code",
   "execution_count": 9,
   "metadata": {},
   "outputs": [
    {
     "data": {
      "text/html": [
       "<div>\n",
       "<style scoped>\n",
       "    .dataframe tbody tr th:only-of-type {\n",
       "        vertical-align: middle;\n",
       "    }\n",
       "\n",
       "    .dataframe tbody tr th {\n",
       "        vertical-align: top;\n",
       "    }\n",
       "\n",
       "    .dataframe thead th {\n",
       "        text-align: right;\n",
       "    }\n",
       "</style>\n",
       "<table border=\"1\" class=\"dataframe\">\n",
       "  <thead>\n",
       "    <tr style=\"text-align: right;\">\n",
       "      <th></th>\n",
       "    </tr>\n",
       "  </thead>\n",
       "  <tbody>\n",
       "  </tbody>\n",
       "</table>\n",
       "</div>"
      ],
      "text/plain": [
       "Empty DataFrame\n",
       "Columns: []\n",
       "Index: []"
      ]
     },
     "execution_count": 9,
     "metadata": {},
     "output_type": "execute_result"
    }
   ],
   "source": [
    "#If a wcc group between 2 - 9 counts, then put it in another supgroup\n",
    "\n",
    "query = \"\"\"\n",
    "match (s:SP)\n",
    "where s.sp_community_group is null\n",
    "with s.wcc_group as wcc_group_select, size(collect(s.SP_ID)) as countsize\n",
    "where countsize >= 2 and countsize <= 10 \n",
    "\n",
    "with wcc_group_select\n",
    "match (s2:SP)\n",
    "where s2.wcc_group = wcc_group_select\n",
    "SET s2.final_group = 99992\n",
    "\"\"\"\n",
    "graph.run(query).to_data_frame()\n"
   ]
  },
  {
   "cell_type": "code",
   "execution_count": 10,
   "metadata": {},
   "outputs": [
    {
     "data": {
      "text/html": [
       "<div>\n",
       "<style scoped>\n",
       "    .dataframe tbody tr th:only-of-type {\n",
       "        vertical-align: middle;\n",
       "    }\n",
       "\n",
       "    .dataframe tbody tr th {\n",
       "        vertical-align: top;\n",
       "    }\n",
       "\n",
       "    .dataframe thead th {\n",
       "        text-align: right;\n",
       "    }\n",
       "</style>\n",
       "<table border=\"1\" class=\"dataframe\">\n",
       "  <thead>\n",
       "    <tr style=\"text-align: right;\">\n",
       "      <th></th>\n",
       "    </tr>\n",
       "  </thead>\n",
       "  <tbody>\n",
       "  </tbody>\n",
       "</table>\n",
       "</div>"
      ],
      "text/plain": [
       "Empty DataFrame\n",
       "Columns: []\n",
       "Index: []"
      ]
     },
     "execution_count": 10,
     "metadata": {},
     "output_type": "execute_result"
    }
   ],
   "source": [
    "#If a wcc group between 11 - 19 counts, then put it in another supgroup\n",
    "\n",
    "query = \"\"\"\n",
    "match (s:SP)\n",
    "where s.sp_community_group is null\n",
    "with s.wcc_group as wcc_group_select, size(collect(s.SP_ID)) as countsize\n",
    "where countsize > 10 and countsize <= 19\n",
    "\n",
    "with wcc_group_select\n",
    "match (s2:SP)\n",
    "where s2.wcc_group = wcc_group_select\n",
    "SET s2.final_group = 99993\n",
    "\"\"\"\n",
    "graph.run(query).to_data_frame()"
   ]
  },
  {
   "cell_type": "code",
   "execution_count": 11,
   "metadata": {},
   "outputs": [
    {
     "data": {
      "text/html": [
       "<div>\n",
       "<style scoped>\n",
       "    .dataframe tbody tr th:only-of-type {\n",
       "        vertical-align: middle;\n",
       "    }\n",
       "\n",
       "    .dataframe tbody tr th {\n",
       "        vertical-align: top;\n",
       "    }\n",
       "\n",
       "    .dataframe thead th {\n",
       "        text-align: right;\n",
       "    }\n",
       "</style>\n",
       "<table border=\"1\" class=\"dataframe\">\n",
       "  <thead>\n",
       "    <tr style=\"text-align: right;\">\n",
       "      <th></th>\n",
       "    </tr>\n",
       "  </thead>\n",
       "  <tbody>\n",
       "  </tbody>\n",
       "</table>\n",
       "</div>"
      ],
      "text/plain": [
       "Empty DataFrame\n",
       "Columns: []\n",
       "Index: []"
      ]
     },
     "execution_count": 11,
     "metadata": {},
     "output_type": "execute_result"
    }
   ],
   "source": [
    "#If a wcc group between 20 - 29 counts, then put it in another supgroup\n",
    "\n",
    "query = \"\"\"\n",
    "match (s:SP)\n",
    "where s.sp_community_group is null\n",
    "with s.wcc_group as wcc_group_select, size(collect(s.SP_ID)) as countsize\n",
    "where countsize > 20 and countsize <= 29\n",
    "\n",
    "with wcc_group_select\n",
    "match (s2:SP)\n",
    "where s2.wcc_group = wcc_group_select\n",
    "SET s2.final_group = 99994\n",
    "\"\"\"\n",
    "graph.run(query).to_data_frame()"
   ]
  },
  {
   "cell_type": "code",
   "execution_count": 26,
   "metadata": {},
   "outputs": [
    {
     "data": {
      "text/html": [
       "<div>\n",
       "<style scoped>\n",
       "    .dataframe tbody tr th:only-of-type {\n",
       "        vertical-align: middle;\n",
       "    }\n",
       "\n",
       "    .dataframe tbody tr th {\n",
       "        vertical-align: top;\n",
       "    }\n",
       "\n",
       "    .dataframe thead th {\n",
       "        text-align: right;\n",
       "    }\n",
       "</style>\n",
       "<table border=\"1\" class=\"dataframe\">\n",
       "  <thead>\n",
       "    <tr style=\"text-align: right;\">\n",
       "      <th></th>\n",
       "    </tr>\n",
       "  </thead>\n",
       "  <tbody>\n",
       "  </tbody>\n",
       "</table>\n",
       "</div>"
      ],
      "text/plain": [
       "Empty DataFrame\n",
       "Columns: []\n",
       "Index: []"
      ]
     },
     "execution_count": 26,
     "metadata": {},
     "output_type": "execute_result"
    }
   ],
   "source": [
    "#If a wcc group between 30 - 39 counts, then put it in another supgroup\n",
    "\n",
    "query = \"\"\"\n",
    "match (s:SP)\n",
    "where s.sp_community_group is null\n",
    "with s.wcc_group as wcc_group_select, size(collect(s.SP_ID)) as countsize\n",
    "where countsize > 30 and countsize <= 39\n",
    "\n",
    "with wcc_group_select\n",
    "match (s2:SP)\n",
    "where s2.wcc_group = wcc_group_select\n",
    "SET s2.final_group = 99995\n",
    "\"\"\"\n",
    "graph.run(query).to_data_frame()"
   ]
  },
  {
   "cell_type": "code",
   "execution_count": 27,
   "metadata": {},
   "outputs": [
    {
     "data": {
      "text/html": [
       "<div>\n",
       "<style scoped>\n",
       "    .dataframe tbody tr th:only-of-type {\n",
       "        vertical-align: middle;\n",
       "    }\n",
       "\n",
       "    .dataframe tbody tr th {\n",
       "        vertical-align: top;\n",
       "    }\n",
       "\n",
       "    .dataframe thead th {\n",
       "        text-align: right;\n",
       "    }\n",
       "</style>\n",
       "<table border=\"1\" class=\"dataframe\">\n",
       "  <thead>\n",
       "    <tr style=\"text-align: right;\">\n",
       "      <th></th>\n",
       "    </tr>\n",
       "  </thead>\n",
       "  <tbody>\n",
       "  </tbody>\n",
       "</table>\n",
       "</div>"
      ],
      "text/plain": [
       "Empty DataFrame\n",
       "Columns: []\n",
       "Index: []"
      ]
     },
     "execution_count": 27,
     "metadata": {},
     "output_type": "execute_result"
    }
   ],
   "source": [
    "#Any WCC greater than 30 should be treated as single final group\n",
    "\n",
    "query = \"\"\"\n",
    "match (s:SP)\n",
    "with s.wcc_group as wcc_group_select, size(collect(s.SP_ID)) as countsize, s.final_group as final_group\n",
    "where countsize > 30 and final_group is null\n",
    "\n",
    "with wcc_group_select\n",
    "match (s2:SP)\n",
    "where s2.wcc_group = wcc_group_select\n",
    "SET s2.final_group = wcc_group_select\n",
    "\"\"\"\n",
    "graph.run(query).to_data_frame()"
   ]
  },
  {
   "cell_type": "code",
   "execution_count": 28,
   "metadata": {},
   "outputs": [
    {
     "data": {
      "text/html": [
       "<div>\n",
       "<style scoped>\n",
       "    .dataframe tbody tr th:only-of-type {\n",
       "        vertical-align: middle;\n",
       "    }\n",
       "\n",
       "    .dataframe tbody tr th {\n",
       "        vertical-align: top;\n",
       "    }\n",
       "\n",
       "    .dataframe thead th {\n",
       "        text-align: right;\n",
       "    }\n",
       "</style>\n",
       "<table border=\"1\" class=\"dataframe\">\n",
       "  <thead>\n",
       "    <tr style=\"text-align: right;\">\n",
       "      <th></th>\n",
       "      <th>s.final_group</th>\n",
       "      <th>size(collect(s.SP_ID))</th>\n",
       "    </tr>\n",
       "  </thead>\n",
       "  <tbody>\n",
       "    <tr>\n",
       "      <th>0</th>\n",
       "      <td>99992</td>\n",
       "      <td>2</td>\n",
       "    </tr>\n",
       "  </tbody>\n",
       "</table>\n",
       "</div>"
      ],
      "text/plain": [
       "   s.final_group  size(collect(s.SP_ID))\n",
       "0          99992                       2"
      ]
     },
     "execution_count": 28,
     "metadata": {},
     "output_type": "execute_result"
    }
   ],
   "source": [
    "query = \"\"\"\n",
    "match (s:SP)\n",
    "return s.final_group, size(collect(s.SP_ID))\n",
    "\"\"\"\n",
    "graph.run(query).to_data_frame()"
   ]
  },
  {
   "cell_type": "markdown",
   "metadata": {
    "tags": []
   },
   "source": [
    "## Community Detection \n",
    "We will utilise 2 community algorithms (Louvain and LPA) and comparing the results\n",
    "\n",
    "Purpose : To see if these big wcc groups can be break down into smaller sup-group with minimal overlapping\n",
    "\n",
    "Default we only running for WCC Groups with more than 40 SPs"
   ]
  },
  {
   "cell_type": "code",
   "execution_count": 30,
   "metadata": {},
   "outputs": [
    {
     "data": {
      "text/html": [
       "<div>\n",
       "<style scoped>\n",
       "    .dataframe tbody tr th:only-of-type {\n",
       "        vertical-align: middle;\n",
       "    }\n",
       "\n",
       "    .dataframe tbody tr th {\n",
       "        vertical-align: top;\n",
       "    }\n",
       "\n",
       "    .dataframe thead th {\n",
       "        text-align: right;\n",
       "    }\n",
       "</style>\n",
       "<table border=\"1\" class=\"dataframe\">\n",
       "  <thead>\n",
       "    <tr style=\"text-align: right;\">\n",
       "      <th></th>\n",
       "      <th>nodeProjection</th>\n",
       "      <th>relationshipProjection</th>\n",
       "      <th>graphName</th>\n",
       "      <th>nodeCount</th>\n",
       "      <th>relationshipCount</th>\n",
       "      <th>projectMillis</th>\n",
       "    </tr>\n",
       "  </thead>\n",
       "  <tbody>\n",
       "    <tr>\n",
       "      <th>0</th>\n",
       "      <td>{'TABLE': {'label': 'TABLE', 'properties': {'E...</td>\n",
       "      <td>{'REL': {'orientation': 'UNDIRECTED', 'aggrega...</td>\n",
       "      <td>SP_ML_Graph</td>\n",
       "      <td>7</td>\n",
       "      <td>12</td>\n",
       "      <td>5</td>\n",
       "    </tr>\n",
       "  </tbody>\n",
       "</table>\n",
       "</div>"
      ],
      "text/plain": [
       "                                      nodeProjection  \\\n",
       "0  {'TABLE': {'label': 'TABLE', 'properties': {'E...   \n",
       "\n",
       "                              relationshipProjection    graphName  nodeCount  \\\n",
       "0  {'REL': {'orientation': 'UNDIRECTED', 'aggrega...  SP_ML_Graph          7   \n",
       "\n",
       "   relationshipCount  projectMillis  \n",
       "0                 12              5  "
      ]
     },
     "execution_count": 30,
     "metadata": {},
     "output_type": "execute_result"
    }
   ],
   "source": [
    "query = \"\"\"\n",
    "CALL gds.graph.drop('SP_ML_Graph', false)\n",
    "\"\"\"\n",
    "graph.run(query).to_data_frame()\n",
    "\n",
    "query = \"\"\"\n",
    "CALL gds.graph.drop('SP_ML_Graph_sub', false)\n",
    "\"\"\"\n",
    "graph.run(query).to_data_frame()\n",
    "\n",
    "\n",
    "query = \"\"\"\n",
    "CALL gds.graph.project(\n",
    "    'SP_ML_Graph',\n",
    "    {\n",
    "        SP: {properties: ['wcc_group_count', 'EXCLUSION']}, \n",
    "        TABLE: {properties: ['EXCLUSION']}\n",
    "    },\n",
    "    {\n",
    "        REL:{type: 'RELY_ON', orientation:'UNDIRECTED'}\n",
    "    }\n",
    ");\n",
    "\"\"\"\n",
    "graph.run(query).to_data_frame()\n"
   ]
  },
  {
   "cell_type": "code",
   "execution_count": 31,
   "metadata": {},
   "outputs": [
    {
     "name": "stdout",
     "output_type": "stream",
     "text": [
      "This piece of GraphML applies to only the main group wcc_group=0\n",
      "    Creating Sub-Graphs for the main WCC group only\n",
      "            Running node Similarity : SimilarityCutOff=0.0001, topK=5000\n",
      "            Running Community Detection (louvain)\n"
     ]
    },
    {
     "ename": "ClientError",
     "evalue": "[Procedure.ProcedureCallFailed] Failed to invoke procedure `gds.louvain.write`: Caused by: java.lang.IllegalArgumentException: Specified labels [NodeLabel{name='SP'}] do not correspond to any of the node projections [NodeLabel{name='TABLE'}].",
     "output_type": "error",
     "traceback": [
      "\u001b[1;31m---------------------------------------------------------------------------\u001b[0m",
      "\u001b[1;31mClientError\u001b[0m                               Traceback (most recent call last)",
      "\u001b[1;32m<timed exec>\u001b[0m in \u001b[0;36m<module>\u001b[1;34m\u001b[0m\n",
      "\u001b[1;32m~\\anaconda3\\envs\\Graph\\lib\\site-packages\\py2neo\\database.py\u001b[0m in \u001b[0;36mrun\u001b[1;34m(self, cypher, parameters, **kwparameters)\u001b[0m\n\u001b[0;32m    403\u001b[0m         \u001b[1;33m:\u001b[0m\u001b[1;32mreturn\u001b[0m\u001b[1;33m:\u001b[0m\u001b[1;33m\u001b[0m\u001b[1;33m\u001b[0m\u001b[0m\n\u001b[0;32m    404\u001b[0m         \"\"\"\n\u001b[1;32m--> 405\u001b[1;33m         \u001b[1;32mreturn\u001b[0m \u001b[0mself\u001b[0m\u001b[1;33m.\u001b[0m\u001b[0mauto\u001b[0m\u001b[1;33m(\u001b[0m\u001b[1;33m)\u001b[0m\u001b[1;33m.\u001b[0m\u001b[0mrun\u001b[0m\u001b[1;33m(\u001b[0m\u001b[0mcypher\u001b[0m\u001b[1;33m,\u001b[0m \u001b[0mparameters\u001b[0m\u001b[1;33m,\u001b[0m \u001b[1;33m**\u001b[0m\u001b[0mkwparameters\u001b[0m\u001b[1;33m)\u001b[0m\u001b[1;33m\u001b[0m\u001b[1;33m\u001b[0m\u001b[0m\n\u001b[0m\u001b[0;32m    406\u001b[0m \u001b[1;33m\u001b[0m\u001b[0m\n\u001b[0;32m    407\u001b[0m     \u001b[1;32mdef\u001b[0m \u001b[0mevaluate\u001b[0m\u001b[1;33m(\u001b[0m\u001b[0mself\u001b[0m\u001b[1;33m,\u001b[0m \u001b[0mcypher\u001b[0m\u001b[1;33m,\u001b[0m \u001b[0mparameters\u001b[0m\u001b[1;33m=\u001b[0m\u001b[1;32mNone\u001b[0m\u001b[1;33m,\u001b[0m \u001b[1;33m**\u001b[0m\u001b[0mkwparameters\u001b[0m\u001b[1;33m)\u001b[0m\u001b[1;33m:\u001b[0m\u001b[1;33m\u001b[0m\u001b[1;33m\u001b[0m\u001b[0m\n",
      "\u001b[1;32m~\\anaconda3\\envs\\Graph\\lib\\site-packages\\py2neo\\database.py\u001b[0m in \u001b[0;36mrun\u001b[1;34m(self, cypher, parameters, **kwparameters)\u001b[0m\n\u001b[0;32m    990\u001b[0m                                                   \u001b[0mgraph_name\u001b[0m\u001b[1;33m=\u001b[0m\u001b[0mself\u001b[0m\u001b[1;33m.\u001b[0m\u001b[0mgraph\u001b[0m\u001b[1;33m.\u001b[0m\u001b[0mname\u001b[0m\u001b[1;33m,\u001b[0m\u001b[1;33m\u001b[0m\u001b[1;33m\u001b[0m\u001b[0m\n\u001b[0;32m    991\u001b[0m                                                   readonly=self.readonly)\n\u001b[1;32m--> 992\u001b[1;33m             \u001b[0mself\u001b[0m\u001b[1;33m.\u001b[0m\u001b[0m_connector\u001b[0m\u001b[1;33m.\u001b[0m\u001b[0mpull\u001b[0m\u001b[1;33m(\u001b[0m\u001b[0mresult\u001b[0m\u001b[1;33m,\u001b[0m \u001b[1;33m-\u001b[0m\u001b[1;36m1\u001b[0m\u001b[1;33m)\u001b[0m\u001b[1;33m\u001b[0m\u001b[1;33m\u001b[0m\u001b[0m\n\u001b[0m\u001b[0;32m    993\u001b[0m             \u001b[1;32mreturn\u001b[0m \u001b[0mCursor\u001b[0m\u001b[1;33m(\u001b[0m\u001b[0mresult\u001b[0m\u001b[1;33m,\u001b[0m \u001b[0mhydrant\u001b[0m\u001b[1;33m)\u001b[0m\u001b[1;33m\u001b[0m\u001b[1;33m\u001b[0m\u001b[0m\n\u001b[0;32m    994\u001b[0m         \u001b[1;32mfinally\u001b[0m\u001b[1;33m:\u001b[0m\u001b[1;33m\u001b[0m\u001b[1;33m\u001b[0m\u001b[0m\n",
      "\u001b[1;32m~\\anaconda3\\envs\\Graph\\lib\\site-packages\\py2neo\\client\\__init__.py\u001b[0m in \u001b[0;36mpull\u001b[1;34m(self, result, n)\u001b[0m\n\u001b[0;32m   1432\u001b[0m         \u001b[0mcx\u001b[0m \u001b[1;33m=\u001b[0m \u001b[0mself\u001b[0m\u001b[1;33m.\u001b[0m\u001b[0m_reacquire\u001b[0m\u001b[1;33m(\u001b[0m\u001b[0mresult\u001b[0m\u001b[1;33m.\u001b[0m\u001b[0mtransaction\u001b[0m\u001b[1;33m)\u001b[0m\u001b[1;33m\u001b[0m\u001b[1;33m\u001b[0m\u001b[0m\n\u001b[0;32m   1433\u001b[0m         \u001b[1;32mtry\u001b[0m\u001b[1;33m:\u001b[0m\u001b[1;33m\u001b[0m\u001b[1;33m\u001b[0m\u001b[0m\n\u001b[1;32m-> 1434\u001b[1;33m             \u001b[0mcx\u001b[0m\u001b[1;33m.\u001b[0m\u001b[0mpull\u001b[0m\u001b[1;33m(\u001b[0m\u001b[0mresult\u001b[0m\u001b[1;33m,\u001b[0m \u001b[0mn\u001b[0m\u001b[1;33m=\u001b[0m\u001b[0mn\u001b[0m\u001b[1;33m)\u001b[0m\u001b[1;33m\u001b[0m\u001b[1;33m\u001b[0m\u001b[0m\n\u001b[0m\u001b[0;32m   1435\u001b[0m         \u001b[1;32mexcept\u001b[0m \u001b[1;33m(\u001b[0m\u001b[0mConnectionUnavailable\u001b[0m\u001b[1;33m,\u001b[0m \u001b[0mConnectionBroken\u001b[0m\u001b[1;33m)\u001b[0m\u001b[1;33m:\u001b[0m\u001b[1;33m\u001b[0m\u001b[1;33m\u001b[0m\u001b[0m\n\u001b[0;32m   1436\u001b[0m             \u001b[0mself\u001b[0m\u001b[1;33m.\u001b[0m\u001b[0mprune\u001b[0m\u001b[1;33m(\u001b[0m\u001b[0mcx\u001b[0m\u001b[1;33m.\u001b[0m\u001b[0mprofile\u001b[0m\u001b[1;33m)\u001b[0m\u001b[1;33m\u001b[0m\u001b[1;33m\u001b[0m\u001b[0m\n",
      "\u001b[1;32m~\\anaconda3\\envs\\Graph\\lib\\site-packages\\py2neo\\client\\bolt.py\u001b[0m in \u001b[0;36mpull\u001b[1;34m(self, result, n, capacity)\u001b[0m\n\u001b[0;32m    999\u001b[0m                                         \"during pull\"), error)\n\u001b[0;32m   1000\u001b[0m         \u001b[1;32melse\u001b[0m\u001b[1;33m:\u001b[0m\u001b[1;33m\u001b[0m\u001b[1;33m\u001b[0m\u001b[0m\n\u001b[1;32m-> 1001\u001b[1;33m             \u001b[0mself\u001b[0m\u001b[1;33m.\u001b[0m\u001b[0m_audit\u001b[0m\u001b[1;33m(\u001b[0m\u001b[0mself\u001b[0m\u001b[1;33m.\u001b[0m\u001b[0m_transaction\u001b[0m\u001b[1;33m)\u001b[0m\u001b[1;33m\u001b[0m\u001b[1;33m\u001b[0m\u001b[0m\n\u001b[0m\u001b[0;32m   1002\u001b[0m             \u001b[1;32mreturn\u001b[0m \u001b[0mresponse\u001b[0m\u001b[1;33m\u001b[0m\u001b[1;33m\u001b[0m\u001b[0m\n\u001b[0;32m   1003\u001b[0m \u001b[1;33m\u001b[0m\u001b[0m\n",
      "\u001b[1;32m~\\anaconda3\\envs\\Graph\\lib\\site-packages\\py2neo\\client\\bolt.py\u001b[0m in \u001b[0;36m_audit\u001b[1;34m(self, task)\u001b[0m\n\u001b[0;32m    808\u001b[0m             \u001b[1;32mreturn\u001b[0m\u001b[1;33m\u001b[0m\u001b[1;33m\u001b[0m\u001b[0m\n\u001b[0;32m    809\u001b[0m         \u001b[1;32mtry\u001b[0m\u001b[1;33m:\u001b[0m\u001b[1;33m\u001b[0m\u001b[1;33m\u001b[0m\u001b[0m\n\u001b[1;32m--> 810\u001b[1;33m             \u001b[0mtask\u001b[0m\u001b[1;33m.\u001b[0m\u001b[0maudit\u001b[0m\u001b[1;33m(\u001b[0m\u001b[1;33m)\u001b[0m\u001b[1;33m\u001b[0m\u001b[1;33m\u001b[0m\u001b[0m\n\u001b[0m\u001b[0;32m    811\u001b[0m         \u001b[1;32mexcept\u001b[0m \u001b[0mNeo4jError\u001b[0m\u001b[1;33m:\u001b[0m\u001b[1;33m\u001b[0m\u001b[1;33m\u001b[0m\u001b[0m\n\u001b[0;32m    812\u001b[0m             \u001b[0mself\u001b[0m\u001b[1;33m.\u001b[0m\u001b[0mreset\u001b[0m\u001b[1;33m(\u001b[0m\u001b[0mforce\u001b[0m\u001b[1;33m=\u001b[0m\u001b[1;32mTrue\u001b[0m\u001b[1;33m)\u001b[0m\u001b[1;33m\u001b[0m\u001b[1;33m\u001b[0m\u001b[0m\n",
      "\u001b[1;32m~\\anaconda3\\envs\\Graph\\lib\\site-packages\\py2neo\\client\\bolt.py\u001b[0m in \u001b[0;36maudit\u001b[1;34m(self)\u001b[0m\n\u001b[0;32m   1138\u001b[0m     \u001b[1;32mdef\u001b[0m \u001b[0maudit\u001b[0m\u001b[1;33m(\u001b[0m\u001b[0mself\u001b[0m\u001b[1;33m)\u001b[0m\u001b[1;33m:\u001b[0m\u001b[1;33m\u001b[0m\u001b[1;33m\u001b[0m\u001b[0m\n\u001b[0;32m   1139\u001b[0m         \u001b[1;32mfor\u001b[0m \u001b[0mitem\u001b[0m \u001b[1;32min\u001b[0m \u001b[0mself\u001b[0m\u001b[1;33m.\u001b[0m\u001b[0m_items\u001b[0m\u001b[1;33m:\u001b[0m\u001b[1;33m\u001b[0m\u001b[1;33m\u001b[0m\u001b[0m\n\u001b[1;32m-> 1140\u001b[1;33m             \u001b[0mitem\u001b[0m\u001b[1;33m.\u001b[0m\u001b[0maudit\u001b[0m\u001b[1;33m(\u001b[0m\u001b[1;33m)\u001b[0m\u001b[1;33m\u001b[0m\u001b[1;33m\u001b[0m\u001b[0m\n\u001b[0m\u001b[0;32m   1141\u001b[0m \u001b[1;33m\u001b[0m\u001b[0m\n\u001b[0;32m   1142\u001b[0m \u001b[1;33m\u001b[0m\u001b[0m\n",
      "\u001b[1;32m~\\anaconda3\\envs\\Graph\\lib\\site-packages\\py2neo\\client\\bolt.py\u001b[0m in \u001b[0;36maudit\u001b[1;34m(self)\u001b[0m\n\u001b[0;32m   1138\u001b[0m     \u001b[1;32mdef\u001b[0m \u001b[0maudit\u001b[0m\u001b[1;33m(\u001b[0m\u001b[0mself\u001b[0m\u001b[1;33m)\u001b[0m\u001b[1;33m:\u001b[0m\u001b[1;33m\u001b[0m\u001b[1;33m\u001b[0m\u001b[0m\n\u001b[0;32m   1139\u001b[0m         \u001b[1;32mfor\u001b[0m \u001b[0mitem\u001b[0m \u001b[1;32min\u001b[0m \u001b[0mself\u001b[0m\u001b[1;33m.\u001b[0m\u001b[0m_items\u001b[0m\u001b[1;33m:\u001b[0m\u001b[1;33m\u001b[0m\u001b[1;33m\u001b[0m\u001b[0m\n\u001b[1;32m-> 1140\u001b[1;33m             \u001b[0mitem\u001b[0m\u001b[1;33m.\u001b[0m\u001b[0maudit\u001b[0m\u001b[1;33m(\u001b[0m\u001b[1;33m)\u001b[0m\u001b[1;33m\u001b[0m\u001b[1;33m\u001b[0m\u001b[0m\n\u001b[0m\u001b[0;32m   1141\u001b[0m \u001b[1;33m\u001b[0m\u001b[0m\n\u001b[0;32m   1142\u001b[0m \u001b[1;33m\u001b[0m\u001b[0m\n",
      "\u001b[1;32m~\\anaconda3\\envs\\Graph\\lib\\site-packages\\py2neo\\client\\bolt.py\u001b[0m in \u001b[0;36maudit\u001b[1;34m(self)\u001b[0m\n\u001b[0;32m   1301\u001b[0m         \u001b[1;32mif\u001b[0m \u001b[0mself\u001b[0m\u001b[1;33m.\u001b[0m\u001b[0m_failure\u001b[0m\u001b[1;33m:\u001b[0m\u001b[1;33m\u001b[0m\u001b[1;33m\u001b[0m\u001b[0m\n\u001b[0;32m   1302\u001b[0m             \u001b[0mself\u001b[0m\u001b[1;33m.\u001b[0m\u001b[0mset_ignored\u001b[0m\u001b[1;33m(\u001b[0m\u001b[1;33m)\u001b[0m\u001b[1;33m\u001b[0m\u001b[1;33m\u001b[0m\u001b[0m\n\u001b[1;32m-> 1303\u001b[1;33m             \u001b[1;32mraise\u001b[0m \u001b[0mself\u001b[0m\u001b[1;33m.\u001b[0m\u001b[0m_failure\u001b[0m\u001b[1;33m\u001b[0m\u001b[1;33m\u001b[0m\u001b[0m\n\u001b[0m\u001b[0;32m   1304\u001b[0m \u001b[1;33m\u001b[0m\u001b[0m\n\u001b[0;32m   1305\u001b[0m     \u001b[1;33m@\u001b[0m\u001b[0mproperty\u001b[0m\u001b[1;33m\u001b[0m\u001b[1;33m\u001b[0m\u001b[0m\n",
      "\u001b[1;31mClientError\u001b[0m: [Procedure.ProcedureCallFailed] Failed to invoke procedure `gds.louvain.write`: Caused by: java.lang.IllegalArgumentException: Specified labels [NodeLabel{name='SP'}] do not correspond to any of the node projections [NodeLabel{name='TABLE'}]."
     ]
    }
   ],
   "source": [
    "%%time\n",
    "\n",
    "#You can charge it here n.wcc_group_count>=40 to any other numbers\n",
    "query = \"\"\"\n",
    "    CALL gds.beta.graph.project.subgraph(\n",
    "      'SP_ML_Graph_sub', \n",
    "      'SP_ML_Graph', \n",
    "      '(n:SP AND n.wcc_group_count>=40 AND n.EXCLUSION=0) OR (n:TABLE AND n.EXCLUSION=0)', \n",
    "      '*' \n",
    "    )\n",
    "    \"\"\"\n",
    "graph.run(query).to_data_frame()\n",
    "\n",
    "print(\"This piece of GraphML applies to only the main group wcc_group=0\")\n",
    "print(\"    Creating Sub-Graphs for the main WCC group only\")\n",
    "\n",
    "\n",
    "query = \"\"\"\n",
    "    CALL gds.nodeSimilarity.mutate(\n",
    "        'SP_ML_Graph_sub',\n",
    "        {\n",
    "        mutateRelationshipType: 'ML_SP_SIMILAR',\n",
    "        mutateProperty: 'score',\n",
    "        similarityCutoff: 0.0001,\n",
    "        topK: 50000\n",
    "        }\n",
    "    ) YIELD nodesCompared, relationshipsWritten;\n",
    "    \"\"\"\n",
    "print(\"            Running node Similarity : SimilarityCutOff=0.0001, topK=5000\")\n",
    "graph.run(query).to_data_frame()\n",
    "\n",
    "\n",
    "#Use this to Plug the relationship back into the DB\n",
    "query = \"\"\"\n",
    "    CALL gds.graph.writeRelationship(\n",
    "        'SP_ML_Graph_sub',\n",
    "        'ML_SP_SIMILAR',\n",
    "        'score'\n",
    "    )\n",
    "    \"\"\"\n",
    "graph.run(query).to_data_frame()\n",
    "    \n",
    "    \n",
    "print(\"            Running Community Detection (louvain)\")\n",
    "query = \"\"\"\n",
    "    CALL gds.louvain.write(\n",
    "        'SP_ML_Graph_sub',\n",
    "        {\n",
    "        nodeLabels: ['SP'],\n",
    "        relationshipTypes: ['ML_SP_SIMILAR'],\n",
    "        writeProperty: 'louvain_community_group',\n",
    "        relationshipWeightProperty: 'score'\n",
    "        }\n",
    "    ) YIELD modularity, ranLevels, communityCount;\n",
    "    \"\"\"\n",
    "\n",
    "graph.run(query).to_data_frame()\n",
    "    \n",
    "\n",
    "print(\"            Running Community Detection (Label Propagation)\")\n",
    "query = \"\"\"\n",
    "CALL gds.labelPropagation.write('SP_ML_Graph_sub', { writeProperty: 'lpa_community_group' })\n",
    "YIELD communityCount, ranIterations, didConverge\n",
    "    \"\"\"\n",
    "\n",
    "graph.run(query).to_data_frame()\n",
    "\n",
    "print(\"completed!\")\n"
   ]
  },
  {
   "cell_type": "code",
   "execution_count": 23,
   "metadata": {},
   "outputs": [],
   "source": [
    "#Use this to delete all the Machine Learning SIMILAR relationships amongst SP, since it is redundant\n",
    "\n",
    "query = \"\"\"\n",
    "match (s1:SP)-[t:ML_SP_SIMILAR]-(s2:SP)\n",
    "where s1<>s2\n",
    "delete t\n",
    "\"\"\"\n",
    "\n",
    "df = graph.run(query).to_data_frame()\n",
    "\n",
    "\n",
    "query = \"\"\"\n",
    "match (t1:TABLE)-[k:ML_SP_SIMILAR]-(t2:TABLE)\n",
    "where t1<>t2\n",
    "delete k\n",
    "\"\"\"\n",
    "\n",
    "df = graph.run(query).to_data_frame()"
   ]
  },
  {
   "cell_type": "code",
   "execution_count": 16,
   "metadata": {},
   "outputs": [
    {
     "name": "stdout",
     "output_type": "stream",
     "text": [
      "lpa results\n"
     ]
    },
    {
     "data": {
      "text/html": [
       "<div>\n",
       "<style scoped>\n",
       "    .dataframe tbody tr th:only-of-type {\n",
       "        vertical-align: middle;\n",
       "    }\n",
       "\n",
       "    .dataframe tbody tr th {\n",
       "        vertical-align: top;\n",
       "    }\n",
       "\n",
       "    .dataframe thead th {\n",
       "        text-align: right;\n",
       "    }\n",
       "</style>\n",
       "<table border=\"1\" class=\"dataframe\">\n",
       "  <thead>\n",
       "    <tr style=\"text-align: right;\">\n",
       "      <th></th>\n",
       "    </tr>\n",
       "  </thead>\n",
       "  <tbody>\n",
       "  </tbody>\n",
       "</table>\n",
       "</div>"
      ],
      "text/plain": [
       "Empty DataFrame\n",
       "Columns: []\n",
       "Index: []"
      ]
     },
     "execution_count": 16,
     "metadata": {},
     "output_type": "execute_result"
    }
   ],
   "source": [
    "#lpa Results\n",
    "print(\"lpa results\")\n",
    "\n",
    "query = \"\"\"\n",
    "    match(s:SP)\n",
    "    where s.lpa_community_group is not null\n",
    "    return  s.lpa_community_group, size(collect(s.SP_ID)) as lpa_count\n",
    "    order by lpa_count desc\n",
    "    \"\"\"\n",
    "df =graph.run(query).to_data_frame()\n",
    "df"
   ]
  },
  {
   "cell_type": "code",
   "execution_count": 17,
   "metadata": {},
   "outputs": [
    {
     "name": "stdout",
     "output_type": "stream",
     "text": [
      "louvain results\n"
     ]
    },
    {
     "data": {
      "text/html": [
       "<div>\n",
       "<style scoped>\n",
       "    .dataframe tbody tr th:only-of-type {\n",
       "        vertical-align: middle;\n",
       "    }\n",
       "\n",
       "    .dataframe tbody tr th {\n",
       "        vertical-align: top;\n",
       "    }\n",
       "\n",
       "    .dataframe thead th {\n",
       "        text-align: right;\n",
       "    }\n",
       "</style>\n",
       "<table border=\"1\" class=\"dataframe\">\n",
       "  <thead>\n",
       "    <tr style=\"text-align: right;\">\n",
       "      <th></th>\n",
       "    </tr>\n",
       "  </thead>\n",
       "  <tbody>\n",
       "  </tbody>\n",
       "</table>\n",
       "</div>"
      ],
      "text/plain": [
       "Empty DataFrame\n",
       "Columns: []\n",
       "Index: []"
      ]
     },
     "execution_count": 17,
     "metadata": {},
     "output_type": "execute_result"
    }
   ],
   "source": [
    "#louvain Results\n",
    "print(\"louvain results\")\n",
    "\n",
    "query = \"\"\"\n",
    "    match(s:SP)\n",
    "    where s.louvain_community_group is not null\n",
    "    return s.louvain_community_group, size(collect(s.SP_ID)) as louvain_count\n",
    "    order by louvain_count desc\n",
    "    \"\"\"\n",
    "df =graph.run(query).to_data_frame()\n",
    "df"
   ]
  },
  {
   "cell_type": "code",
   "execution_count": 18,
   "metadata": {
    "jupyter": {
     "source_hidden": true
    },
    "tags": []
   },
   "outputs": [
    {
     "name": "stdout",
     "output_type": "stream",
     "text": [
      "Return top 10 SP per community\n"
     ]
    }
   ],
   "source": [
    "exploratory_query = \"\"\"\n",
    "//pageRank algorithms\n",
    "\n",
    "MATCH (s:SP)\n",
    "where s.sp_community_group is not null\n",
    "WITH s.sp_community_group as community, count(*) as communitySize, sum(s.SYNTAX_WORDCOUNT) as syntax_wordcount\n",
    "ORDER BY communitySize DESC \n",
    "\n",
    "CALL gds.pageRank.stream(\n",
    "    {nodeQuery: 'MATCH (s:SP) where s.sp_community_group=$community\n",
    "    RETURN id(s) as id', \n",
    "    relationshipQuery: 'MATCH (s1:SP)-[s:ML_SP_SIMILAR]-(s2:SP)\n",
    "    WHERE s1.purchase_community_louvain = $community and s2.purchase_community_louvain = $community\n",
    "    RETURN id(s1) as source, id(s2) as target, s.score as weight',\n",
    "    relationshipWeightProperty: 'weight',\n",
    "    parameters:{community: community}}\n",
    ") YIELD nodeId, score\n",
    "\n",
    "WITH community, communitySize, nodeId, score, syntax_wordcount\n",
    "ORDER BY score DESC\n",
    "RETURN community, communitySize, syntax_wordcount, collect(gds.util.asNode(nodeId).SP_ID)[..10] as community_Name ORDER BY communitySize DESC\n",
    "\"\"\"\n",
    "\n",
    "print(\"Return top 10 SP per community\")\n",
    "#df=graph.run(exploratory_query).to_data_frame()\n",
    "#df\n",
    "#df.to_csv(\"abc.csv\")"
   ]
  },
  {
   "cell_type": "code",
   "execution_count": 19,
   "metadata": {},
   "outputs": [],
   "source": [
    "#Downloading the inter-cluster OVERLAPPING results out\n",
    "exploratory_query = \"\"\"\n",
    "MATCH (s1:SP)-[:RELY_ON]->(t:TABLE)<-[:RELY_ON]-(s2:SP)\n",
    "where s1.lpa_community_group<>s2.lpa_community_group and s1.wcc_group = s2.wcc_group\n",
    "return s1.lpa_community_group_community_group, s1.SP_ID,  t.TABLE_ID\n",
    "order by t.TABLE_ID\n",
    "\"\"\"\n",
    "\n",
    "df_overlap=graph.run(exploratory_query).to_data_frame()\n",
    "df_overlap\n",
    "df_overlap.to_excel(\"overlapping.xlsx\")"
   ]
  },
  {
   "cell_type": "code",
   "execution_count": 20,
   "metadata": {},
   "outputs": [
    {
     "data": {
      "text/html": [
       "<div>\n",
       "<style scoped>\n",
       "    .dataframe tbody tr th:only-of-type {\n",
       "        vertical-align: middle;\n",
       "    }\n",
       "\n",
       "    .dataframe tbody tr th {\n",
       "        vertical-align: top;\n",
       "    }\n",
       "\n",
       "    .dataframe thead th {\n",
       "        text-align: right;\n",
       "    }\n",
       "</style>\n",
       "<table border=\"1\" class=\"dataframe\">\n",
       "  <thead>\n",
       "    <tr style=\"text-align: right;\">\n",
       "      <th></th>\n",
       "    </tr>\n",
       "  </thead>\n",
       "  <tbody>\n",
       "  </tbody>\n",
       "</table>\n",
       "</div>"
      ],
      "text/plain": [
       "Empty DataFrame\n",
       "Columns: []\n",
       "Index: []"
      ]
     },
     "execution_count": 20,
     "metadata": {},
     "output_type": "execute_result"
    }
   ],
   "source": [
    "df_overlap"
   ]
  },
  {
   "cell_type": "code",
   "execution_count": 21,
   "metadata": {
    "tags": []
   },
   "outputs": [
    {
     "data": {
      "text/html": [
       "<div>\n",
       "<style scoped>\n",
       "    .dataframe tbody tr th:only-of-type {\n",
       "        vertical-align: middle;\n",
       "    }\n",
       "\n",
       "    .dataframe tbody tr th {\n",
       "        vertical-align: top;\n",
       "    }\n",
       "\n",
       "    .dataframe thead th {\n",
       "        text-align: right;\n",
       "    }\n",
       "</style>\n",
       "<table border=\"1\" class=\"dataframe\">\n",
       "  <thead>\n",
       "    <tr style=\"text-align: right;\">\n",
       "      <th></th>\n",
       "      <th>sp_community_group</th>\n",
       "      <th>countsize</th>\n",
       "      <th>wordcounts</th>\n",
       "    </tr>\n",
       "  </thead>\n",
       "  <tbody>\n",
       "    <tr>\n",
       "      <th>0</th>\n",
       "      <td>None</td>\n",
       "      <td>2</td>\n",
       "      <td>290</td>\n",
       "    </tr>\n",
       "  </tbody>\n",
       "</table>\n",
       "</div>"
      ],
      "text/plain": [
       "  sp_community_group  countsize  wordcounts\n",
       "0               None          2         290"
      ]
     },
     "execution_count": 21,
     "metadata": {},
     "output_type": "execute_result"
    }
   ],
   "source": [
    "query = \"\"\"\n",
    "match (s:SP)\n",
    "where s.sp_community_group is null\n",
    "return s.sp_community_group as sp_community_group, size(collect(s.SP_ID)) as countsize, sum(s.SYNTAX_WORDCOUNT) as wordcounts\n",
    "    \"\"\"\n",
    "df =graph.run(query).to_data_frame()\n",
    "df"
   ]
  },
  {
   "cell_type": "code",
   "execution_count": 22,
   "metadata": {},
   "outputs": [
    {
     "name": "stdout",
     "output_type": "stream",
     "text": [
      "Check if have nested SP:\n",
      "SP Calling SP (x1) :\n",
      "<bound method Cursor.to_data_frame of  count(*) \n",
      "----------\n",
      "        0 \n",
      ">\n",
      "SP Calling SP Calling SP (x2) :\n",
      "   countsize\n",
      "0          0\n",
      "Nested SP should have lower priority\n",
      "            If an SP calls another SP, then the SP with dependencies should be worked on first\n"
     ]
    },
    {
     "data": {
      "text/html": [
       "<div>\n",
       "<style scoped>\n",
       "    .dataframe tbody tr th:only-of-type {\n",
       "        vertical-align: middle;\n",
       "    }\n",
       "\n",
       "    .dataframe tbody tr th {\n",
       "        vertical-align: top;\n",
       "    }\n",
       "\n",
       "    .dataframe thead th {\n",
       "        text-align: right;\n",
       "    }\n",
       "</style>\n",
       "<table border=\"1\" class=\"dataframe\">\n",
       "  <thead>\n",
       "    <tr style=\"text-align: right;\">\n",
       "      <th></th>\n",
       "    </tr>\n",
       "  </thead>\n",
       "  <tbody>\n",
       "  </tbody>\n",
       "</table>\n",
       "</div>"
      ],
      "text/plain": [
       "Empty DataFrame\n",
       "Columns: []\n",
       "Index: []"
      ]
     },
     "execution_count": 22,
     "metadata": {},
     "output_type": "execute_result"
    }
   ],
   "source": [
    "query = \"\"\"\n",
    "match r1=(s1:SP)-[:CALL_SP]->(s2:SP)-[:CALL_SP]->(s3:SP)\n",
    "where s1<>s2 and s2<>s3 and s3<>s1\n",
    "return r1\n",
    "\"\"\"\n",
    "df =graph.run(query).to_data_frame()\n",
    "\n",
    "print(\"Check if have nested SP:\")\n",
    "\n",
    "print(\"SP Calling SP (x1) :\")\n",
    "query = \"\"\"\n",
    "match r1=(s1:SP)-[:CALL_SP]->(s2:SP)\n",
    "where s1<>s2\n",
    "return count(*)\n",
    "\"\"\"\n",
    "df =graph.run(query).to_data_frame\n",
    "print(df)\n",
    "\n",
    "print(\"SP Calling SP Calling SP (x2) :\")\n",
    "query = \"\"\"\n",
    "match r1=(s1:SP)-[:CALL_SP]->(s2:SP)-[:CALL_SP]->(s3:SP)\n",
    "where s1<>s2 and s1<>s3 and s2<>s3\n",
    "return count(*)  as countsize\n",
    "\"\"\"\n",
    "df =graph.run(query).to_data_frame()\n",
    "print(df)\n",
    "\n",
    "print(\"Nested SP should have lower priority\")\n",
    "\n",
    "query = \"\"\"\n",
    "    MATCH r1=(s1:SP)-[:CALL_SP]->(s2:SP)\n",
    "    SET s2.priority = 1\n",
    "    \"\"\"\n",
    "print(\"            If an SP calls another SP, then the SP with dependencies should be worked on first\")\n",
    "graph.run(query).to_data_frame()\n"
   ]
  }
 ],
 "metadata": {
  "kernelspec": {
   "display_name": "Graph",
   "language": "python",
   "name": "graph"
  },
  "language_info": {
   "codemirror_mode": {
    "name": "ipython",
    "version": 3
   },
   "file_extension": ".py",
   "mimetype": "text/x-python",
   "name": "python",
   "nbconvert_exporter": "python",
   "pygments_lexer": "ipython3",
   "version": "3.9.7"
  }
 },
 "nbformat": 4,
 "nbformat_minor": 4
}
