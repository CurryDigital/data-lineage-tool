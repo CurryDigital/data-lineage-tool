{
 "cells": [
  {
   "cell_type": "markdown",
   "metadata": {
    "pycharm": {}
   },
   "source": [
    "## Dataset Loading\n"
   ]
  },
  {
   "cell_type": "code",
   "execution_count": 4,
   "metadata": {
    "collapsed": true,
    "jupyter": {
     "outputs_hidden": true
    },
    "tags": []
   },
   "outputs": [
    {
     "name": "stdout",
     "output_type": "stream",
     "text": [
      "Requirement already satisfied: py2neo in c:\\users\\tangy\\anaconda3\\lib\\site-packages (2021.2.3)\n",
      "Requirement already satisfied: pandas in c:\\users\\tangy\\anaconda3\\lib\\site-packages (1.3.4)\n",
      "Requirement already satisfied: matplotlib in c:\\users\\tangy\\anaconda3\\lib\\site-packages (3.4.3)\n",
      "Requirement already satisfied: sklearn in c:\\users\\tangy\\anaconda3\\lib\\site-packages (0.0)\n",
      "Requirement already satisfied: IPython in c:\\users\\tangy\\anaconda3\\lib\\site-packages (7.29.0)\n",
      "Requirement already satisfied: certifi in c:\\users\\tangy\\anaconda3\\lib\\site-packages (from py2neo) (2021.10.8)\n",
      "Requirement already satisfied: six>=1.15.0 in c:\\users\\tangy\\anaconda3\\lib\\site-packages (from py2neo) (1.16.0)\n",
      "Requirement already satisfied: pansi>=2020.7.3 in c:\\users\\tangy\\anaconda3\\lib\\site-packages (from py2neo) (2020.7.3)\n",
      "Requirement already satisfied: packaging in c:\\users\\tangy\\anaconda3\\lib\\site-packages (from py2neo) (21.0)\n",
      "Requirement already satisfied: interchange~=2021.0.4 in c:\\users\\tangy\\anaconda3\\lib\\site-packages (from py2neo) (2021.0.4)\n",
      "Requirement already satisfied: monotonic in c:\\users\\tangy\\anaconda3\\lib\\site-packages (from py2neo) (1.6)\n",
      "Requirement already satisfied: pygments>=2.0.0 in c:\\users\\tangy\\anaconda3\\lib\\site-packages (from py2neo) (2.10.0)\n",
      "Requirement already satisfied: urllib3 in c:\\users\\tangy\\anaconda3\\lib\\site-packages (from py2neo) (1.26.7)\n",
      "Requirement already satisfied: pytz>=2017.3 in c:\\users\\tangy\\anaconda3\\lib\\site-packages (from pandas) (2021.3)\n",
      "Requirement already satisfied: python-dateutil>=2.7.3 in c:\\users\\tangy\\anaconda3\\lib\\site-packages (from pandas) (2.8.2)\n",
      "Requirement already satisfied: numpy>=1.17.3 in c:\\users\\tangy\\anaconda3\\lib\\site-packages (from pandas) (1.22.4)\n",
      "Requirement already satisfied: pyparsing>=2.2.1 in c:\\users\\tangy\\anaconda3\\lib\\site-packages (from matplotlib) (3.0.4)\n",
      "Requirement already satisfied: kiwisolver>=1.0.1 in c:\\users\\tangy\\anaconda3\\lib\\site-packages (from matplotlib) (1.3.1)\n",
      "Requirement already satisfied: pillow>=6.2.0 in c:\\users\\tangy\\anaconda3\\lib\\site-packages (from matplotlib) (8.4.0)\n",
      "Requirement already satisfied: cycler>=0.10 in c:\\users\\tangy\\anaconda3\\lib\\site-packages (from matplotlib) (0.10.0)\n",
      "Requirement already satisfied: scikit-learn in c:\\users\\tangy\\anaconda3\\lib\\site-packages (from sklearn) (0.24.2)\n",
      "Requirement already satisfied: prompt-toolkit!=3.0.0,!=3.0.1,<3.1.0,>=2.0.0 in c:\\users\\tangy\\anaconda3\\lib\\site-packages (from IPython) (3.0.20)\n",
      "Requirement already satisfied: colorama in c:\\users\\tangy\\anaconda3\\lib\\site-packages (from IPython) (0.4.4)\n",
      "Requirement already satisfied: backcall in c:\\users\\tangy\\anaconda3\\lib\\site-packages (from IPython) (0.2.0)\n",
      "Requirement already satisfied: setuptools>=18.5 in c:\\users\\tangy\\anaconda3\\lib\\site-packages (from IPython) (58.0.4)\n",
      "Requirement already satisfied: pickleshare in c:\\users\\tangy\\anaconda3\\lib\\site-packages (from IPython) (0.7.5)\n",
      "Requirement already satisfied: traitlets>=4.2 in c:\\users\\tangy\\anaconda3\\lib\\site-packages (from IPython) (5.1.0)\n",
      "Requirement already satisfied: matplotlib-inline in c:\\users\\tangy\\anaconda3\\lib\\site-packages (from IPython) (0.1.2)\n",
      "Requirement already satisfied: decorator in c:\\users\\tangy\\anaconda3\\lib\\site-packages (from IPython) (5.1.0)\n",
      "Requirement already satisfied: jedi>=0.16 in c:\\users\\tangy\\anaconda3\\lib\\site-packages (from IPython) (0.18.0)\n",
      "Requirement already satisfied: parso<0.9.0,>=0.8.0 in c:\\users\\tangy\\anaconda3\\lib\\site-packages (from jedi>=0.16->IPython) (0.8.2)\n",
      "Requirement already satisfied: wcwidth in c:\\users\\tangy\\anaconda3\\lib\\site-packages (from prompt-toolkit!=3.0.0,!=3.0.1,<3.1.0,>=2.0.0->IPython) (0.2.5)\n",
      "Requirement already satisfied: threadpoolctl>=2.0.0 in c:\\users\\tangy\\anaconda3\\lib\\site-packages (from scikit-learn->sklearn) (2.2.0)\n",
      "Requirement already satisfied: joblib>=0.11 in c:\\users\\tangy\\anaconda3\\lib\\site-packages (from scikit-learn->sklearn) (1.1.0)\n",
      "Requirement already satisfied: scipy>=0.19.1 in c:\\users\\tangy\\anaconda3\\lib\\site-packages (from scikit-learn->sklearn) (1.7.1)\n"
     ]
    }
   ],
   "source": [
    "!pip install py2neo pandas matplotlib sklearn IPython"
   ]
  },
  {
   "cell_type": "code",
   "execution_count": 5,
   "metadata": {
    "pycharm": {},
    "tags": []
   },
   "outputs": [],
   "source": [
    "from py2neo import Graph\n",
    "import pandas as pd\n",
    "from IPython import display\n",
    "\n",
    "graph = Graph(\"bolt://localhost:7687\", auth=(\"neo4j\", \"123\"))"
   ]
  },
  {
   "cell_type": "markdown",
   "metadata": {},
   "source": [
    "#### Make sure these 4 files are moved into the Neo4j Folder \n",
    "(steps please revert to the SOP)"
   ]
  },
  {
   "cell_type": "code",
   "execution_count": 3,
   "metadata": {
    "jupyter": {
     "source_hidden": true
    },
    "tags": []
   },
   "outputs": [
    {
     "data": {
      "image/png": "[encoded data removed]",
      "text/plain": [
       "<IPython.core.display.Image object>"
      ]
     },
     "execution_count": 3,
     "metadata": {},
     "output_type": "execute_result"
    }
   ],
   "source": [
    "display.Image(\"PICTURE/A6_1.png\")"
   ]
  },
  {
   "cell_type": "markdown",
   "metadata": {
    "pycharm": {}
   },
   "source": [
    "## Create Constraints"
   ]
  },
  {
   "cell_type": "code",
   "execution_count": 3,
   "metadata": {},
   "outputs": [
    {
     "data": {
      "text/plain": [
       "{'system_updates': 2}"
      ]
     },
     "metadata": {},
     "output_type": "display_data"
    }
   ],
   "source": [
    "#This line will replace the DROP the existing database, use with care\n",
    "\n",
    "display(graph.run(\"CREATE OR REPLACE DATABASE neo4j\").stats())"
   ]
  },
  {
   "cell_type": "code",
   "execution_count": 4,
   "metadata": {
    "pycharm": {}
   },
   "outputs": [
    {
     "data": {
      "text/plain": [
       "{'constraints_added': 1}"
      ]
     },
     "metadata": {},
     "output_type": "display_data"
    },
    {
     "data": {
      "text/plain": [
       "{'constraints_added': 1}"
      ]
     },
     "metadata": {},
     "output_type": "display_data"
    },
    {
     "data": {
      "text/plain": [
       "{'constraints_added': 1}"
      ]
     },
     "metadata": {},
     "output_type": "display_data"
    }
   ],
   "source": [
    "display(graph.run(\"CREATE CONSTRAINT ON (s:SP) ASSERT s.SP_ID is unique\").stats())\n",
    "display(graph.run(\"CREATE CONSTRAINT ON (t:TABLE) ASSERT t.TABLE_ID is unique\").stats())\n",
    "display(graph.run(\"CREATE CONSTRAINT ON (v:VIEW) ASSERT v.VW_ID is unique\").stats())"
   ]
  },
  {
   "cell_type": "markdown",
   "metadata": {
    "pycharm": {}
   },
   "source": [
    "## Loading the data\n"
   ]
  },
  {
   "cell_type": "code",
   "execution_count": 5,
   "metadata": {
    "pycharm": {}
   },
   "outputs": [
    {
     "data": {
      "text/html": [
       "<div>\n",
       "<style scoped>\n",
       "    .dataframe tbody tr th:only-of-type {\n",
       "        vertical-align: middle;\n",
       "    }\n",
       "\n",
       "    .dataframe tbody tr th {\n",
       "        vertical-align: top;\n",
       "    }\n",
       "\n",
       "    .dataframe thead th {\n",
       "        text-align: right;\n",
       "    }\n",
       "</style>\n",
       "<table border=\"1\" class=\"dataframe\">\n",
       "  <thead>\n",
       "    <tr style=\"text-align: right;\">\n",
       "      <th></th>\n",
       "      <th>batches</th>\n",
       "      <th>total</th>\n",
       "      <th>timeTaken</th>\n",
       "      <th>committedOperations</th>\n",
       "      <th>failedOperations</th>\n",
       "      <th>failedBatches</th>\n",
       "      <th>retries</th>\n",
       "      <th>errorMessages</th>\n",
       "      <th>batch</th>\n",
       "      <th>operations</th>\n",
       "      <th>wasTerminated</th>\n",
       "      <th>failedParams</th>\n",
       "      <th>updateStatistics</th>\n",
       "    </tr>\n",
       "  </thead>\n",
       "  <tbody>\n",
       "    <tr>\n",
       "      <th>0</th>\n",
       "      <td>1</td>\n",
       "      <td>6</td>\n",
       "      <td>0</td>\n",
       "      <td>6</td>\n",
       "      <td>0</td>\n",
       "      <td>0</td>\n",
       "      <td>0</td>\n",
       "      <td>{}</td>\n",
       "      <td>{'total': 1, 'committed': 1, 'failed': 0, 'err...</td>\n",
       "      <td>{'total': 6, 'committed': 6, 'failed': 0, 'err...</td>\n",
       "      <td>False</td>\n",
       "      <td>{}</td>\n",
       "      <td>{'nodesDeleted': 0, 'labelsAdded': 2, 'relatio...</td>\n",
       "    </tr>\n",
       "  </tbody>\n",
       "</table>\n",
       "</div>"
      ],
      "text/plain": [
       "   batches  total  timeTaken  committedOperations  failedOperations  \\\n",
       "0        1      6          0                    6                 0   \n",
       "\n",
       "   failedBatches  retries errorMessages  \\\n",
       "0              0        0            {}   \n",
       "\n",
       "                                               batch  \\\n",
       "0  {'total': 1, 'committed': 1, 'failed': 0, 'err...   \n",
       "\n",
       "                                          operations  wasTerminated  \\\n",
       "0  {'total': 6, 'committed': 6, 'failed': 0, 'err...          False   \n",
       "\n",
       "  failedParams                                   updateStatistics  \n",
       "0           {}  {'nodesDeleted': 0, 'labelsAdded': 2, 'relatio...  "
      ]
     },
     "execution_count": 5,
     "metadata": {},
     "output_type": "execute_result"
    }
   ],
   "source": [
    "query = \"\"\"\n",
    "//Loading the SP Node\n",
    "CALL apoc.periodic.iterate(\n",
    "    \"CALL apoc.load.csv('file:///graph_input_sp.csv') YIELD map AS row RETURN row\",\n",
    "    \"WITH \n",
    "        row.SP_NAME AS SP_NAME,\n",
    "        row.SP_SCHEMA AS SP_SCHEMA,\n",
    "        row.SP_TYPE AS SP_TYPE,\n",
    "        row.SP_INDEX AS SP_INDEX,\n",
    "        COALESCE(row.SP_SCHEMA ,'') + '.' + COALESCE(row.SP_NAME ,'') AS SP_ID,\n",
    "        row.EXCLUSION AS EXCLUSION,\n",
    "    //    row.SYNTAX as SYNTAX,\n",
    "        toInteger(row.SYNTAX_WORDCOUNT) as SYNTAX_WORDCOUNT\n",
    "\n",
    "    MERGE (s:SP {SP_ID : SP_ID})\n",
    "    ON CREATE SET \n",
    "        s.SP_NAME = SP_NAME,\n",
    "        s.SP_SCHEMA = SP_SCHEMA,\n",
    "        s.SP_TYPE = SP_TYPE,\n",
    "        s.SP_INDEX = SP_INDEX,\n",
    "        s.EXCLUSION = EXCLUSION,\n",
    "    //    s.SYNTAX = SYNTAX,\n",
    "        s.SYNTAX_WORDCOUNT = SYNTAX_WORDCOUNT\n",
    "        \",\n",
    "    {batchSize: 500}\n",
    ");\n",
    "\n",
    "\n",
    "\"\"\"\n",
    "graph.run(query).to_data_frame()\n"
   ]
  },
  {
   "cell_type": "code",
   "execution_count": 6,
   "metadata": {},
   "outputs": [
    {
     "data": {
      "text/html": [
       "<div>\n",
       "<style scoped>\n",
       "    .dataframe tbody tr th:only-of-type {\n",
       "        vertical-align: middle;\n",
       "    }\n",
       "\n",
       "    .dataframe tbody tr th {\n",
       "        vertical-align: top;\n",
       "    }\n",
       "\n",
       "    .dataframe thead th {\n",
       "        text-align: right;\n",
       "    }\n",
       "</style>\n",
       "<table border=\"1\" class=\"dataframe\">\n",
       "  <thead>\n",
       "    <tr style=\"text-align: right;\">\n",
       "      <th></th>\n",
       "      <th>batches</th>\n",
       "      <th>total</th>\n",
       "      <th>timeTaken</th>\n",
       "      <th>committedOperations</th>\n",
       "      <th>failedOperations</th>\n",
       "      <th>failedBatches</th>\n",
       "      <th>retries</th>\n",
       "      <th>errorMessages</th>\n",
       "      <th>batch</th>\n",
       "      <th>operations</th>\n",
       "      <th>wasTerminated</th>\n",
       "      <th>failedParams</th>\n",
       "      <th>updateStatistics</th>\n",
       "    </tr>\n",
       "  </thead>\n",
       "  <tbody>\n",
       "    <tr>\n",
       "      <th>0</th>\n",
       "      <td>1</td>\n",
       "      <td>5</td>\n",
       "      <td>0</td>\n",
       "      <td>5</td>\n",
       "      <td>0</td>\n",
       "      <td>0</td>\n",
       "      <td>0</td>\n",
       "      <td>{}</td>\n",
       "      <td>{'total': 1, 'committed': 1, 'failed': 0, 'err...</td>\n",
       "      <td>{'total': 5, 'committed': 5, 'failed': 0, 'err...</td>\n",
       "      <td>False</td>\n",
       "      <td>{}</td>\n",
       "      <td>{'nodesDeleted': 0, 'labelsAdded': 5, 'relatio...</td>\n",
       "    </tr>\n",
       "  </tbody>\n",
       "</table>\n",
       "</div>"
      ],
      "text/plain": [
       "   batches  total  timeTaken  committedOperations  failedOperations  \\\n",
       "0        1      5          0                    5                 0   \n",
       "\n",
       "   failedBatches  retries errorMessages  \\\n",
       "0              0        0            {}   \n",
       "\n",
       "                                               batch  \\\n",
       "0  {'total': 1, 'committed': 1, 'failed': 0, 'err...   \n",
       "\n",
       "                                          operations  wasTerminated  \\\n",
       "0  {'total': 5, 'committed': 5, 'failed': 0, 'err...          False   \n",
       "\n",
       "  failedParams                                   updateStatistics  \n",
       "0           {}  {'nodesDeleted': 0, 'labelsAdded': 5, 'relatio...  "
      ]
     },
     "execution_count": 6,
     "metadata": {},
     "output_type": "execute_result"
    }
   ],
   "source": [
    "query = \"\"\"\n",
    "//Loading the Table Node (Using Table Master File)\n",
    "CALL apoc.periodic.iterate(\n",
    "    \"CALL apoc.load.csv('file:///tableList.csv') YIELD map AS row RETURN row\",\n",
    "    \"WITH \n",
    "        toUpper(row.database) AS DATABASE,\n",
    "        toUpper(row.schema) AS SCHEMA,\n",
    "        toUpper(row.name) AS NAME,\n",
    "        toUpper(row.type) AS TYPE,\n",
    "        toUpper(COALESCE(row.schema ,'') + '.' + COALESCE(row.name ,'')) AS TABLE_ID\n",
    "\n",
    "    MERGE (t:TABLE {TABLE_ID : TABLE_ID})\n",
    "    ON CREATE SET \n",
    "        t.NAME  = NAME,\n",
    "        t.SCHEMA = SCHEMA,\n",
    "        t.TYPE = TYPE,\n",
    "        t.DATABASE = DATABASE\n",
    "        \",\n",
    "    {batchSize: 500}\n",
    ");\n",
    "\n",
    "\"\"\"\n",
    "graph.run(query).to_data_frame()\n"
   ]
  },
  {
   "cell_type": "code",
   "execution_count": 7,
   "metadata": {},
   "outputs": [
    {
     "data": {
      "text/html": [
       "<div>\n",
       "<style scoped>\n",
       "    .dataframe tbody tr th:only-of-type {\n",
       "        vertical-align: middle;\n",
       "    }\n",
       "\n",
       "    .dataframe tbody tr th {\n",
       "        vertical-align: top;\n",
       "    }\n",
       "\n",
       "    .dataframe thead th {\n",
       "        text-align: right;\n",
       "    }\n",
       "</style>\n",
       "<table border=\"1\" class=\"dataframe\">\n",
       "  <thead>\n",
       "    <tr style=\"text-align: right;\">\n",
       "      <th></th>\n",
       "      <th>batches</th>\n",
       "      <th>total</th>\n",
       "      <th>timeTaken</th>\n",
       "      <th>committedOperations</th>\n",
       "      <th>failedOperations</th>\n",
       "      <th>failedBatches</th>\n",
       "      <th>retries</th>\n",
       "      <th>errorMessages</th>\n",
       "      <th>batch</th>\n",
       "      <th>operations</th>\n",
       "      <th>wasTerminated</th>\n",
       "      <th>failedParams</th>\n",
       "      <th>updateStatistics</th>\n",
       "    </tr>\n",
       "  </thead>\n",
       "  <tbody>\n",
       "    <tr>\n",
       "      <th>0</th>\n",
       "      <td>1</td>\n",
       "      <td>2</td>\n",
       "      <td>0</td>\n",
       "      <td>2</td>\n",
       "      <td>0</td>\n",
       "      <td>0</td>\n",
       "      <td>0</td>\n",
       "      <td>{}</td>\n",
       "      <td>{'total': 1, 'committed': 1, 'failed': 0, 'err...</td>\n",
       "      <td>{'total': 2, 'committed': 2, 'failed': 0, 'err...</td>\n",
       "      <td>False</td>\n",
       "      <td>{}</td>\n",
       "      <td>{'nodesDeleted': 0, 'labelsAdded': 0, 'relatio...</td>\n",
       "    </tr>\n",
       "  </tbody>\n",
       "</table>\n",
       "</div>"
      ],
      "text/plain": [
       "   batches  total  timeTaken  committedOperations  failedOperations  \\\n",
       "0        1      2          0                    2                 0   \n",
       "\n",
       "   failedBatches  retries errorMessages  \\\n",
       "0              0        0            {}   \n",
       "\n",
       "                                               batch  \\\n",
       "0  {'total': 1, 'committed': 1, 'failed': 0, 'err...   \n",
       "\n",
       "                                          operations  wasTerminated  \\\n",
       "0  {'total': 2, 'committed': 2, 'failed': 0, 'err...          False   \n",
       "\n",
       "  failedParams                                   updateStatistics  \n",
       "0           {}  {'nodesDeleted': 0, 'labelsAdded': 0, 'relatio...  "
      ]
     },
     "execution_count": 7,
     "metadata": {},
     "output_type": "execute_result"
    }
   ],
   "source": [
    "query = \"\"\"\n",
    "//Loading the View Node\n",
    "CALL apoc.periodic.iterate(\n",
    "    \"CALL apoc.load.csv('file:///graph_input_vw.csv') YIELD map AS row RETURN row\",\n",
    "    \"WITH \n",
    "        COLLECT({\n",
    "        VW_SCHEMA : row.VW_SCHEMA,\n",
    "        VW_NAME : row.VW_NAME,\n",
    "        VW_ID : COALESCE(row.VW_SCHEMA ,'') + '.' + COALESCE(row.VW_NAME,'') ,\n",
    "      //  SYNTAX : row.SYNTAX,\n",
    "        SYNTAX_WORDCOUNT : row.SYNTAX_WORDCOUNT \n",
    "        }) as COLLECTION\n",
    "\n",
    "UNWIND COLLECTION as COLLECT\n",
    "    MERGE (v:VIEW {VW_ID : COLLECT.VW_ID})\n",
    "    ON CREATE SET \n",
    "        v.NAME  = COLLECT.VW_NAME,\n",
    "        v.SCHEMA = COLLECT.VW_SCHEMA,\n",
    "        v.TYPE = 'VIEW',\n",
    "    //    v.SYNTAX = COLLECT.SYNTAX,\n",
    "        v.SYNTAX_WORDCOUNT = COLLECT.SYNTAX_WORDCOUNT\n",
    "        \",\n",
    "    {batchSize: 500}\n",
    ");\n",
    "\n",
    "\"\"\"\n",
    "graph.run(query).to_data_frame()\n",
    "\n",
    "\n",
    "query = \"\"\"\n",
    "//Loading the VIEW-TABLE relationship\n",
    "\n",
    "CALL apoc.periodic.iterate(\n",
    "    \"CALL apoc.load.csv('file:///graph_input_vw.csv') YIELD map AS row RETURN row\",\n",
    "    \"WITH \n",
    "        COLLECT({\n",
    "            VW_ID : COALESCE(row.VW_SCHEMA ,'') + '.' + COALESCE(row.VW_NAME,'') ,\n",
    "            TABLE_ID : COALESCE(row.TABLE_SCHEMA ,'') + '.' + COALESCE(row.TABLE_NAME,'')\n",
    "        }) as COLLECTION\n",
    "\n",
    "UNWIND COLLECTION as COLLECT\n",
    "        MATCH (v:VIEW {VW_ID : COLLECT.VW_ID})\n",
    "        MATCH (t:TABLE {TABLE_ID: COLLECT.TABLE_ID})\n",
    "        MERGE (v)-[k:RELY_ON]->(t)\n",
    "            SET k.REGEX_TYPE = 'VIEW'\n",
    "            SET k.TYPE = 'DEPENDS_ON'        \n",
    "        \",\n",
    "    {batchSize: 10000}\n",
    ");\n",
    "\"\"\"\n",
    "\n",
    "graph.run(query).to_data_frame()\n",
    "\n",
    "\n"
   ]
  },
  {
   "cell_type": "code",
   "execution_count": 8,
   "metadata": {},
   "outputs": [
    {
     "data": {
      "text/html": [
       "<div>\n",
       "<style scoped>\n",
       "    .dataframe tbody tr th:only-of-type {\n",
       "        vertical-align: middle;\n",
       "    }\n",
       "\n",
       "    .dataframe tbody tr th {\n",
       "        vertical-align: top;\n",
       "    }\n",
       "\n",
       "    .dataframe thead th {\n",
       "        text-align: right;\n",
       "    }\n",
       "</style>\n",
       "<table border=\"1\" class=\"dataframe\">\n",
       "  <thead>\n",
       "    <tr style=\"text-align: right;\">\n",
       "      <th></th>\n",
       "      <th>batches</th>\n",
       "      <th>total</th>\n",
       "      <th>timeTaken</th>\n",
       "      <th>committedOperations</th>\n",
       "      <th>failedOperations</th>\n",
       "      <th>failedBatches</th>\n",
       "      <th>retries</th>\n",
       "      <th>errorMessages</th>\n",
       "      <th>batch</th>\n",
       "      <th>operations</th>\n",
       "      <th>wasTerminated</th>\n",
       "      <th>failedParams</th>\n",
       "      <th>updateStatistics</th>\n",
       "    </tr>\n",
       "  </thead>\n",
       "  <tbody>\n",
       "    <tr>\n",
       "      <th>0</th>\n",
       "      <td>1</td>\n",
       "      <td>6</td>\n",
       "      <td>0</td>\n",
       "      <td>6</td>\n",
       "      <td>0</td>\n",
       "      <td>0</td>\n",
       "      <td>0</td>\n",
       "      <td>{}</td>\n",
       "      <td>{'total': 1, 'committed': 1, 'failed': 0, 'err...</td>\n",
       "      <td>{'total': 6, 'committed': 6, 'failed': 0, 'err...</td>\n",
       "      <td>False</td>\n",
       "      <td>{}</td>\n",
       "      <td>{'nodesDeleted': 0, 'labelsAdded': 0, 'relatio...</td>\n",
       "    </tr>\n",
       "  </tbody>\n",
       "</table>\n",
       "</div>"
      ],
      "text/plain": [
       "   batches  total  timeTaken  committedOperations  failedOperations  \\\n",
       "0        1      6          0                    6                 0   \n",
       "\n",
       "   failedBatches  retries errorMessages  \\\n",
       "0              0        0            {}   \n",
       "\n",
       "                                               batch  \\\n",
       "0  {'total': 1, 'committed': 1, 'failed': 0, 'err...   \n",
       "\n",
       "                                          operations  wasTerminated  \\\n",
       "0  {'total': 6, 'committed': 6, 'failed': 0, 'err...          False   \n",
       "\n",
       "  failedParams                                   updateStatistics  \n",
       "0           {}  {'nodesDeleted': 0, 'labelsAdded': 0, 'relatio...  "
      ]
     },
     "execution_count": 8,
     "metadata": {},
     "output_type": "execute_result"
    }
   ],
   "source": [
    "query = \"\"\"\n",
    "//Loading the SP-VIEW relationship\n",
    "\n",
    "\n",
    "CALL apoc.periodic.iterate(\n",
    "    \"CALL apoc.load.csv('file:///graph_input_sp.csv') YIELD map AS row RETURN row\",\n",
    "    \"WITH \n",
    "        COLLECT({\n",
    "            SP_ID : COALESCE(row.SP_SCHEMA ,'') + '.' + COALESCE(row.SP_NAME ,'') ,\n",
    "            VW_ID : row.TABLE_FULL_NAME ,\n",
    "            REGEX_TYPE:  row.REGEX_TYPE\n",
    "        }) as COLLECTION\n",
    "\n",
    "UNWIND COLLECTION as COLLECT\n",
    "        MATCH (p:SP {SP_ID : COLLECT.SP_ID})\n",
    "        MATCH (v:VIEW {VW_ID: COLLECT.VW_ID})\n",
    "        MERGE (p)-[k:RELY_ON]->(v)\n",
    "            SET k.REGEX_TYPE = COLLECT.REGEX_TYPE\n",
    "            SET k.TYPE = 'DEPENDS_ON'        \n",
    "        \",\n",
    "    {batchSize: 10000}\n",
    ");\n",
    "\"\"\"\n",
    "\n",
    "graph.run(query).to_data_frame()\n"
   ]
  },
  {
   "cell_type": "code",
   "execution_count": 9,
   "metadata": {},
   "outputs": [
    {
     "data": {
      "text/html": [
       "<div>\n",
       "<style scoped>\n",
       "    .dataframe tbody tr th:only-of-type {\n",
       "        vertical-align: middle;\n",
       "    }\n",
       "\n",
       "    .dataframe tbody tr th {\n",
       "        vertical-align: top;\n",
       "    }\n",
       "\n",
       "    .dataframe thead th {\n",
       "        text-align: right;\n",
       "    }\n",
       "</style>\n",
       "<table border=\"1\" class=\"dataframe\">\n",
       "  <thead>\n",
       "    <tr style=\"text-align: right;\">\n",
       "      <th></th>\n",
       "    </tr>\n",
       "  </thead>\n",
       "  <tbody>\n",
       "  </tbody>\n",
       "</table>\n",
       "</div>"
      ],
      "text/plain": [
       "Empty DataFrame\n",
       "Columns: []\n",
       "Index: []"
      ]
     },
     "execution_count": 9,
     "metadata": {},
     "output_type": "execute_result"
    }
   ],
   "source": [
    "\n",
    "#Now link back the SP-View-Table relationship\n",
    "query = \"\"\"\n",
    "MATCH (s:SP)-[k:RELY_ON]-(v:VIEW)-[k2:RELY_ON]->(t:TABLE)\n",
    "WITH s, t\n",
    "//point1 CREATE->MERGE\n",
    "MERGE (s)-[r:RELY_ON]-(t)\n",
    "    ON CREATE\n",
    "         SET r.REGEX_TYPE = 'VIEW',\n",
    "             r.TYPE = 'DEPENDS_ON'\n",
    "\"\"\"\n",
    "\n",
    "graph.run(query).to_data_frame()"
   ]
  },
  {
   "cell_type": "code",
   "execution_count": 10,
   "metadata": {},
   "outputs": [
    {
     "data": {
      "text/html": [
       "<div>\n",
       "<style scoped>\n",
       "    .dataframe tbody tr th:only-of-type {\n",
       "        vertical-align: middle;\n",
       "    }\n",
       "\n",
       "    .dataframe tbody tr th {\n",
       "        vertical-align: top;\n",
       "    }\n",
       "\n",
       "    .dataframe thead th {\n",
       "        text-align: right;\n",
       "    }\n",
       "</style>\n",
       "<table border=\"1\" class=\"dataframe\">\n",
       "  <thead>\n",
       "    <tr style=\"text-align: right;\">\n",
       "      <th></th>\n",
       "      <th>batches</th>\n",
       "      <th>total</th>\n",
       "      <th>timeTaken</th>\n",
       "      <th>committedOperations</th>\n",
       "      <th>failedOperations</th>\n",
       "      <th>failedBatches</th>\n",
       "      <th>retries</th>\n",
       "      <th>errorMessages</th>\n",
       "      <th>batch</th>\n",
       "      <th>operations</th>\n",
       "      <th>wasTerminated</th>\n",
       "      <th>failedParams</th>\n",
       "      <th>updateStatistics</th>\n",
       "    </tr>\n",
       "  </thead>\n",
       "  <tbody>\n",
       "    <tr>\n",
       "      <th>0</th>\n",
       "      <td>1</td>\n",
       "      <td>6</td>\n",
       "      <td>0</td>\n",
       "      <td>6</td>\n",
       "      <td>0</td>\n",
       "      <td>0</td>\n",
       "      <td>0</td>\n",
       "      <td>{}</td>\n",
       "      <td>{'total': 1, 'committed': 1, 'failed': 0, 'err...</td>\n",
       "      <td>{'total': 6, 'committed': 6, 'failed': 0, 'err...</td>\n",
       "      <td>False</td>\n",
       "      <td>{}</td>\n",
       "      <td>{'nodesDeleted': 0, 'labelsAdded': 0, 'relatio...</td>\n",
       "    </tr>\n",
       "  </tbody>\n",
       "</table>\n",
       "</div>"
      ],
      "text/plain": [
       "   batches  total  timeTaken  committedOperations  failedOperations  \\\n",
       "0        1      6          0                    6                 0   \n",
       "\n",
       "   failedBatches  retries errorMessages  \\\n",
       "0              0        0            {}   \n",
       "\n",
       "                                               batch  \\\n",
       "0  {'total': 1, 'committed': 1, 'failed': 0, 'err...   \n",
       "\n",
       "                                          operations  wasTerminated  \\\n",
       "0  {'total': 6, 'committed': 6, 'failed': 0, 'err...          False   \n",
       "\n",
       "  failedParams                                   updateStatistics  \n",
       "0           {}  {'nodesDeleted': 0, 'labelsAdded': 0, 'relatio...  "
      ]
     },
     "execution_count": 10,
     "metadata": {},
     "output_type": "execute_result"
    }
   ],
   "source": [
    "query = \"\"\"\n",
    "//Loading the Table/View with SP relationship (DEPENDS_ON)\n",
    "CALL apoc.periodic.iterate(\n",
    "    \"CALL apoc.load.csv('file:///graph_input_sp.csv') YIELD map AS row RETURN row\",\n",
    "    \"WITH \n",
    "        COLLECT({\n",
    "            SP_ID : COALESCE(row.SP_SCHEMA ,'') + '.' + COALESCE(row.SP_NAME ,'') ,\n",
    "            TABLE_ID : row.TABLE_FULL_NAME,\n",
    "            REGEX_TYPE:  row.REGEX_TYPE\n",
    "        }) as COLLECTION\n",
    "\n",
    "UNWIND COLLECTION as COLLECT\n",
    "CALL apoc.do.when(COLLECT.REGEX_TYPE = 'SELECT_FROM',\n",
    "        'MATCH (p:SP {SP_ID : COLLECT.SP_ID})\n",
    "        MATCH (t:TABLE {TABLE_ID: COLLECT.TABLE_ID})\n",
    "        MERGE (p)-[k:SP_SELECT_FROM]->(t)',\n",
    "            '', {COLLECT:COLLECT}) YIELD value AS case1\n",
    "\n",
    "WITH COLLECT\n",
    "CALL apoc.do.when(COLLECT.REGEX_TYPE = 'INSERT_UPDATE',\n",
    "        'MATCH (p:SP {SP_ID : COLLECT.SP_ID})\n",
    "        MATCH (t:TABLE {TABLE_ID: COLLECT.TABLE_ID})\n",
    "        MERGE (p)-[k:SP_INSERT_UPDATE]->(t)',\n",
    "            '', {COLLECT:COLLECT}) YIELD value AS case2\n",
    "\n",
    "    Return *\n",
    "        \",\n",
    "    {batchSize: 10000}\n",
    ");\n",
    "\n",
    "\"\"\"\n",
    "\n",
    "graph.run(query).to_data_frame()\n"
   ]
  },
  {
   "cell_type": "code",
   "execution_count": 11,
   "metadata": {},
   "outputs": [
    {
     "data": {
      "text/html": [
       "<div>\n",
       "<style scoped>\n",
       "    .dataframe tbody tr th:only-of-type {\n",
       "        vertical-align: middle;\n",
       "    }\n",
       "\n",
       "    .dataframe tbody tr th {\n",
       "        vertical-align: top;\n",
       "    }\n",
       "\n",
       "    .dataframe thead th {\n",
       "        text-align: right;\n",
       "    }\n",
       "</style>\n",
       "<table border=\"1\" class=\"dataframe\">\n",
       "  <thead>\n",
       "    <tr style=\"text-align: right;\">\n",
       "      <th></th>\n",
       "      <th>batches</th>\n",
       "      <th>total</th>\n",
       "      <th>timeTaken</th>\n",
       "      <th>committedOperations</th>\n",
       "      <th>failedOperations</th>\n",
       "      <th>failedBatches</th>\n",
       "      <th>retries</th>\n",
       "      <th>errorMessages</th>\n",
       "      <th>batch</th>\n",
       "      <th>operations</th>\n",
       "      <th>wasTerminated</th>\n",
       "      <th>failedParams</th>\n",
       "      <th>updateStatistics</th>\n",
       "    </tr>\n",
       "  </thead>\n",
       "  <tbody>\n",
       "    <tr>\n",
       "      <th>0</th>\n",
       "      <td>1</td>\n",
       "      <td>6</td>\n",
       "      <td>0</td>\n",
       "      <td>6</td>\n",
       "      <td>0</td>\n",
       "      <td>0</td>\n",
       "      <td>0</td>\n",
       "      <td>{}</td>\n",
       "      <td>{'total': 1, 'committed': 1, 'failed': 0, 'err...</td>\n",
       "      <td>{'total': 6, 'committed': 6, 'failed': 0, 'err...</td>\n",
       "      <td>False</td>\n",
       "      <td>{}</td>\n",
       "      <td>{'nodesDeleted': 0, 'labelsAdded': 0, 'relatio...</td>\n",
       "    </tr>\n",
       "  </tbody>\n",
       "</table>\n",
       "</div>"
      ],
      "text/plain": [
       "   batches  total  timeTaken  committedOperations  failedOperations  \\\n",
       "0        1      6          0                    6                 0   \n",
       "\n",
       "   failedBatches  retries errorMessages  \\\n",
       "0              0        0            {}   \n",
       "\n",
       "                                               batch  \\\n",
       "0  {'total': 1, 'committed': 1, 'failed': 0, 'err...   \n",
       "\n",
       "                                          operations  wasTerminated  \\\n",
       "0  {'total': 6, 'committed': 6, 'failed': 0, 'err...          False   \n",
       "\n",
       "  failedParams                                   updateStatistics  \n",
       "0           {}  {'nodesDeleted': 0, 'labelsAdded': 0, 'relatio...  "
      ]
     },
     "execution_count": 11,
     "metadata": {},
     "output_type": "execute_result"
    }
   ],
   "source": [
    "query = \"\"\"\n",
    "//Loading the SP-SP relationship\n",
    "CALL apoc.periodic.iterate(\n",
    "    \"CALL apoc.load.csv('file:///graph_input_sp.csv') YIELD map AS row RETURN row\",\n",
    "    \"WITH \n",
    "        COLLECT({\n",
    "            SP_ID: COALESCE(row.SP_SCHEMA ,'') + '.' + COALESCE(row.SP_NAME,''),\n",
    "            TABLE_ID: row.TABLE_FULL_NAME,\n",
    "            REGEX_TYPE:  row.REGEX_TYPE\n",
    "        }) as COLLECTION\n",
    "\n",
    "UNWIND COLLECTION as COLLECT\n",
    "\n",
    "        MATCH (s1:SP {SP_ID : COLLECT.SP_ID})\n",
    "        MATCH (s2:SP {SP_ID: COLLECT.SP_ID})\n",
    "\n",
    "        with s1, s2, COLLECT\n",
    "        CALL apoc.do.when(COLLECT.REGEX_TYPE = 'EXEC',\n",
    "            'MERGE (s1)-[k:CALL_SP]->(s2)',\n",
    "            '', {s1:s1, s2:s2}) YIELD value AS case1\n",
    "            \n",
    "            RETURN count(*)\n",
    "        \",\n",
    "    {batchSize: 10000}\n",
    ");\n",
    "\n",
    "\"\"\"\n",
    "\n",
    "graph.run(query).to_data_frame()"
   ]
  },
  {
   "cell_type": "markdown",
   "metadata": {},
   "source": [
    "### Data Manipulation\n",
    "- Utility Tables are excluded \n",
    "- Summary Tables are excluded"
   ]
  },
  {
   "cell_type": "code",
   "execution_count": 12,
   "metadata": {},
   "outputs": [
    {
     "data": {
      "text/html": [
       "<div>\n",
       "<style scoped>\n",
       "    .dataframe tbody tr th:only-of-type {\n",
       "        vertical-align: middle;\n",
       "    }\n",
       "\n",
       "    .dataframe tbody tr th {\n",
       "        vertical-align: top;\n",
       "    }\n",
       "\n",
       "    .dataframe thead th {\n",
       "        text-align: right;\n",
       "    }\n",
       "</style>\n",
       "<table border=\"1\" class=\"dataframe\">\n",
       "  <thead>\n",
       "    <tr style=\"text-align: right;\">\n",
       "      <th></th>\n",
       "    </tr>\n",
       "  </thead>\n",
       "  <tbody>\n",
       "  </tbody>\n",
       "</table>\n",
       "</div>"
      ],
      "text/plain": [
       "Empty DataFrame\n",
       "Columns: []\n",
       "Index: []"
      ]
     },
     "execution_count": 12,
     "metadata": {},
     "output_type": "execute_result"
    }
   ],
   "source": [
    "#The AUDIT table is excluded from the calculation\n",
    "exploratory_query = \"\"\"\n",
    "MATCH (t:TABLE)\n",
    "where t.TABLE_ID = 'PREPARE.AUDIT_INGESTION_SUMMARY' or t.TABLE_ID contains 'UTIL.'\n",
    "SET t.EXCLUSION = 1\n",
    "\"\"\"\n",
    "\n",
    "graph.run(exploratory_query).to_data_frame()\n",
    "\n",
    "exploratory_query = \"\"\"\n",
    "MATCH (t:TABLE)\n",
    "where t.EXCLUSION is null\n",
    "SET t.EXCLUSION = 0\n",
    "\"\"\"\n",
    "graph.run(exploratory_query).to_data_frame()\n",
    "\n",
    "exploratory_query = \"\"\"\n",
    "MATCH (s:SP)\n",
    "where s.EXCLUSION = 'True'\n",
    "SET s.EXCLUSION = 1\n",
    "\"\"\"\n",
    "graph.run(exploratory_query).to_data_frame()\n",
    "\n",
    "exploratory_query = \"\"\"\n",
    "MATCH (s:SP)\n",
    "where s.EXCLUSION = 'False'\n",
    "SET s.EXCLUSION = 0\n",
    "\"\"\"\n",
    "\n",
    "graph.run(exploratory_query).to_data_frame()"
   ]
  },
  {
   "cell_type": "markdown",
   "metadata": {},
   "source": [
    "#### We will fill up direct/indirect linked SP-Table relationships with a generic \"RELY_ON\""
   ]
  },
  {
   "cell_type": "code",
   "execution_count": 13,
   "metadata": {},
   "outputs": [
    {
     "data": {
      "text/html": [
       "<div>\n",
       "<style scoped>\n",
       "    .dataframe tbody tr th:only-of-type {\n",
       "        vertical-align: middle;\n",
       "    }\n",
       "\n",
       "    .dataframe tbody tr th {\n",
       "        vertical-align: top;\n",
       "    }\n",
       "\n",
       "    .dataframe thead th {\n",
       "        text-align: right;\n",
       "    }\n",
       "</style>\n",
       "<table border=\"1\" class=\"dataframe\">\n",
       "  <thead>\n",
       "    <tr style=\"text-align: right;\">\n",
       "      <th></th>\n",
       "    </tr>\n",
       "  </thead>\n",
       "  <tbody>\n",
       "  </tbody>\n",
       "</table>\n",
       "</div>"
      ],
      "text/plain": [
       "Empty DataFrame\n",
       "Columns: []\n",
       "Index: []"
      ]
     },
     "execution_count": 13,
     "metadata": {},
     "output_type": "execute_result"
    }
   ],
   "source": [
    "#If a SP calls another SP, Then the SP should have the RELY_ON relationship for the called SP as well\n",
    "query = \"\"\"\n",
    "    MATCH (s:SP)-[:SP_INSERT_UPDATE|SP_SELECT_FROM]->(t:TABLE)\n",
    "        WITH \n",
    "            s, t\n",
    "        \n",
    "        MERGE(s)-[k:RELY_ON]->(t)\n",
    "            \n",
    "\"\"\"\n",
    "\n",
    "graph.run(query).to_data_frame()"
   ]
  },
  {
   "cell_type": "code",
   "execution_count": 14,
   "metadata": {
    "tags": []
   },
   "outputs": [
    {
     "data": {
      "text/html": [
       "<div>\n",
       "<style scoped>\n",
       "    .dataframe tbody tr th:only-of-type {\n",
       "        vertical-align: middle;\n",
       "    }\n",
       "\n",
       "    .dataframe tbody tr th {\n",
       "        vertical-align: top;\n",
       "    }\n",
       "\n",
       "    .dataframe thead th {\n",
       "        text-align: right;\n",
       "    }\n",
       "</style>\n",
       "<table border=\"1\" class=\"dataframe\">\n",
       "  <thead>\n",
       "    <tr style=\"text-align: right;\">\n",
       "      <th></th>\n",
       "    </tr>\n",
       "  </thead>\n",
       "  <tbody>\n",
       "  </tbody>\n",
       "</table>\n",
       "</div>"
      ],
      "text/plain": [
       "Empty DataFrame\n",
       "Columns: []\n",
       "Index: []"
      ]
     },
     "execution_count": 14,
     "metadata": {},
     "output_type": "execute_result"
    }
   ],
   "source": [
    "#If a SP calls another SP, Then the SP should have the RELY_ON relationship for the called SP as well\n",
    "query = \"\"\"\n",
    "    MATCH (s:SP)-[:CALL_SP]->(s2:SP)-[:RELY_ON]->(t:TABLE)\n",
    "        WITH \n",
    "            s, t\n",
    "        \n",
    "        MERGE(s)-[k:RELY_ON]->(t)\n",
    "            SET k.REGEX_TYPE = 'SP_CALL_SP'\n",
    "            SET k.TYPE = 'DEPENDS_ON'\n",
    "            \n",
    "\"\"\"\n",
    "\n",
    "graph.run(query).to_data_frame()"
   ]
  },
  {
   "cell_type": "code",
   "execution_count": 15,
   "metadata": {},
   "outputs": [
    {
     "data": {
      "text/plain": [
       "{'indexes_added': 1}"
      ]
     },
     "metadata": {},
     "output_type": "display_data"
    },
    {
     "data": {
      "text/plain": [
       "{'indexes_added': 1}"
      ]
     },
     "metadata": {},
     "output_type": "display_data"
    }
   ],
   "source": [
    "\n",
    "display(graph.run(\"CREATE INDEX ON :TABLE(SKIP_FLAG)\").stats())\n",
    "display(graph.run(\"CREATE INDEX ON :SP(wcc_group)\").stats())"
   ]
  },
  {
   "cell_type": "markdown",
   "metadata": {
    "pycharm": {}
   },
   "source": [
    "## To check the schema within our database:"
   ]
  },
  {
   "cell_type": "code",
   "execution_count": 16,
   "metadata": {
    "pycharm": {}
   },
   "outputs": [
    {
     "data": {
      "text/plain": [
       "[{'nodes': [Node('TABLE', constraints=[\"Constraint( id=6, name='constraint_8509ffa1', type='UNIQUENESS', schema=(:TABLE {TABLE_ID}), ownedIndex=5 )\"], indexes=['SKIP_FLAG'], name='TABLE'),\n",
       "   Node('SP', constraints=[\"Constraint( id=4, name='constraint_bbc1861', type='UNIQUENESS', schema=(:SP {SP_ID}), ownedIndex=3 )\"], indexes=['wcc_group'], name='SP'),\n",
       "   Node('VIEW', constraints=[\"Constraint( id=8, name='constraint_a05c4504', type='UNIQUENESS', schema=(:VIEW {VW_ID}), ownedIndex=7 )\"], indexes=[], name='VIEW')],\n",
       "  'relationships': [SP_SELECT_FROM(Node(), Node()),\n",
       "   SP_INSERT_UPDATE(Node(), Node()),\n",
       "   RELY_ON(Node(), Node()),\n",
       "   RELY_ON(Node(), Node())]}]"
      ]
     },
     "execution_count": 16,
     "metadata": {},
     "output_type": "execute_result"
    }
   ],
   "source": [
    "graph.run(\"CALL db.schema.visualization()\").data()"
   ]
  },
  {
   "cell_type": "markdown",
   "metadata": {
    "pycharm": {}
   },
   "source": [
    "The nodes we have:"
   ]
  },
  {
   "cell_type": "code",
   "execution_count": 17,
   "metadata": {
    "pycharm": {}
   },
   "outputs": [
    {
     "name": "stdout",
     "output_type": "stream",
     "text": [
      "Nodes:\n"
     ]
    },
    {
     "data": {
      "text/html": [
       "<div>\n",
       "<style scoped>\n",
       "    .dataframe tbody tr th:only-of-type {\n",
       "        vertical-align: middle;\n",
       "    }\n",
       "\n",
       "    .dataframe tbody tr th {\n",
       "        vertical-align: top;\n",
       "    }\n",
       "\n",
       "    .dataframe thead th {\n",
       "        text-align: right;\n",
       "    }\n",
       "</style>\n",
       "<table border=\"1\" class=\"dataframe\">\n",
       "  <thead>\n",
       "    <tr style=\"text-align: right;\">\n",
       "      <th></th>\n",
       "      <th>label</th>\n",
       "      <th>count</th>\n",
       "    </tr>\n",
       "  </thead>\n",
       "  <tbody>\n",
       "    <tr>\n",
       "      <th>0</th>\n",
       "      <td>SP</td>\n",
       "      <td>2</td>\n",
       "    </tr>\n",
       "    <tr>\n",
       "      <th>2</th>\n",
       "      <td>VIEW</td>\n",
       "      <td>2</td>\n",
       "    </tr>\n",
       "    <tr>\n",
       "      <th>1</th>\n",
       "      <td>TABLE</td>\n",
       "      <td>5</td>\n",
       "    </tr>\n",
       "  </tbody>\n",
       "</table>\n",
       "</div>"
      ],
      "text/plain": [
       "   label  count\n",
       "0     SP      2\n",
       "2   VIEW      2\n",
       "1  TABLE      5"
      ]
     },
     "execution_count": 17,
     "metadata": {},
     "output_type": "execute_result"
    }
   ],
   "source": [
    "print(\"Nodes:\")\n",
    "\n",
    "result = {\"label\": [], \"count\": []}\n",
    "for label in graph.run(\"CALL db.labels()\").to_series():\n",
    "    query = f\"MATCH (:`{label}`) RETURN count(*) as count\"\n",
    "    count = graph.run(query).to_data_frame().iloc[0]['count']\n",
    "    result[\"label\"].append(label)\n",
    "    result[\"count\"].append(count)\n",
    "nodes_df = pd.DataFrame(data=result)\n",
    "nodes_df.sort_values(\"count\")"
   ]
  },
  {
   "cell_type": "markdown",
   "metadata": {
    "pycharm": {}
   },
   "source": [
    "The relationships we have:"
   ]
  },
  {
   "cell_type": "code",
   "execution_count": 18,
   "metadata": {
    "pycharm": {}
   },
   "outputs": [
    {
     "name": "stdout",
     "output_type": "stream",
     "text": [
      "Relationships:\n"
     ]
    },
    {
     "data": {
      "text/html": [
       "<div>\n",
       "<style scoped>\n",
       "    .dataframe tbody tr th:only-of-type {\n",
       "        vertical-align: middle;\n",
       "    }\n",
       "\n",
       "    .dataframe tbody tr th {\n",
       "        vertical-align: top;\n",
       "    }\n",
       "\n",
       "    .dataframe thead th {\n",
       "        text-align: right;\n",
       "    }\n",
       "</style>\n",
       "<table border=\"1\" class=\"dataframe\">\n",
       "  <thead>\n",
       "    <tr style=\"text-align: right;\">\n",
       "      <th></th>\n",
       "      <th>relType</th>\n",
       "      <th>count</th>\n",
       "    </tr>\n",
       "  </thead>\n",
       "  <tbody>\n",
       "    <tr>\n",
       "      <th>2</th>\n",
       "      <td>SP_SELECT_FROM</td>\n",
       "      <td>2</td>\n",
       "    </tr>\n",
       "    <tr>\n",
       "      <th>1</th>\n",
       "      <td>SP_INSERT_UPDATE</td>\n",
       "      <td>4</td>\n",
       "    </tr>\n",
       "    <tr>\n",
       "      <th>0</th>\n",
       "      <td>RELY_ON</td>\n",
       "      <td>8</td>\n",
       "    </tr>\n",
       "  </tbody>\n",
       "</table>\n",
       "</div>"
      ],
      "text/plain": [
       "            relType  count\n",
       "2    SP_SELECT_FROM      2\n",
       "1  SP_INSERT_UPDATE      4\n",
       "0           RELY_ON      8"
      ]
     },
     "execution_count": 18,
     "metadata": {},
     "output_type": "execute_result"
    }
   ],
   "source": [
    "print(\"Relationships:\")\n",
    "\n",
    "result = {\"relType\": [], \"count\": []}\n",
    "for relationship_type in graph.run(\"CALL db.relationshipTypes()\").to_series():\n",
    "    query = f\"MATCH ()-[:`{relationship_type}`]->() RETURN count(*) as count\"\n",
    "    count = graph.run(query).to_data_frame().iloc[0]['count']\n",
    "    result[\"relType\"].append(relationship_type)\n",
    "    result[\"count\"].append(count)\n",
    "rels_df = pd.DataFrame(data=result)\n",
    "rels_df.sort_values(\"count\")"
   ]
  },
  {
   "cell_type": "code",
   "execution_count": 6,
   "metadata": {
    "tags": []
   },
   "outputs": [
    {
     "ename": "AttributeError",
     "evalue": "'function' object has no attribute 'Image'",
     "output_type": "error",
     "traceback": [
      "\u001b[1;31m---------------------------------------------------------------------------\u001b[0m",
      "\u001b[1;31mAttributeError\u001b[0m                            Traceback (most recent call last)",
      "\u001b[1;32m~\\AppData\\Local\\Temp/ipykernel_55592/632115035.py\u001b[0m in \u001b[0;36m<module>\u001b[1;34m\u001b[0m\n\u001b[1;32m----> 1\u001b[1;33m \u001b[0mdisplay\u001b[0m\u001b[1;33m.\u001b[0m\u001b[0mImage\u001b[0m\u001b[1;33m(\u001b[0m\u001b[1;34m\"PICTURE/A6_2.png\"\u001b[0m\u001b[1;33m)\u001b[0m\u001b[1;33m\u001b[0m\u001b[1;33m\u001b[0m\u001b[0m\n\u001b[0m",
      "\u001b[1;31mAttributeError\u001b[0m: 'function' object has no attribute 'Image'"
     ]
    }
   ],
   "source": [
    "display.Image(\"PICTURE/A6_2.png\")"
   ]
  },
  {
   "cell_type": "markdown",
   "metadata": {},
   "source": [
    "### Export Lineage data into Excel\n",
    "- Moving between layers within Synapse\n",
    "- Prepare -> Analyse -> Publish\n"
   ]
  },
  {
   "cell_type": "code",
   "execution_count": 28,
   "metadata": {},
   "outputs": [],
   "source": [
    "query = \"\"\"\n",
    "match r1=(t1:TABLE)-[:RELY_ON]-(s1:SP)-[:RELY_ON]-(t2:TABLE)-[:RELY_ON]-(s2:SP)-[:RELY_ON]-(t3:TABLE)\n",
    "where t1.SCHEMA ='PREPARE' and t2.SCHEMA ='ANALYSE' and t3.SCHEMA ='PUBLISH'\n",
    "return t1.TABLE_ID, s1.SP_ID, t2.TABLE_ID, s2.SP_ID, t3.TABLE_ID\n",
    "\"\"\"\n",
    "\n",
    "df = graph.run(query).to_data_frame()\n",
    "df\n",
    "\n",
    "df = df.drop_duplicates()\n",
    "df.to_excel(\"lineage_excel.xlsx\")"
   ]
  }
 ],
 "metadata": {
  "kernelspec": {
   "display_name": "Graph",
   "language": "python",
   "name": "graph"
  },
  "language_info": {
   "codemirror_mode": {
    "name": "ipython",
    "version": 3
   },
   "file_extension": ".py",
   "mimetype": "text/x-python",
   "name": "python",
   "nbconvert_exporter": "python",
   "pygments_lexer": "ipython3",
   "version": "3.9.7"
  }
 },
 "nbformat": 4,
 "nbformat_minor": 4
}
